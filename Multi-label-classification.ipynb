{
 "cells": [
  {
   "cell_type": "markdown",
   "id": "846419b0",
   "metadata": {},
   "source": [
    "our job is to develop a predictive model that can predict whether or not a movie is a <i>Drama</i>. In order to do so you need to use the textual features of the movie stories and creat your predictive models. There are totally three different files in this project.\n",
    "\n",
    "<ol>\n",
    "    <li><b>movie_story_student_file.csv</b>: This file contains the movie stories that should be used by students for model development.</li>\n",
    "    <li><b>movie_story_evaluation_file.csv</b>: This file should NOT be used for model development purposes. Students should only use this file after developing their predictive models and selecting their best final model. They then need to use their best predictive model and predict whether or not the movies in <b>movie story evaluation file.csv</b> are Drama.</li>\n",
    "    <li><b>movies.csv</b>: This file contain the movie genres.</li>\n",
    "</ol>"
   ]
  },
  {
   "cell_type": "markdown",
   "id": "741501b1",
   "metadata": {},
   "source": [
    "<b>Step 1:</b> Explore all files to become familiar with the dataset <br />\n",
    "<b>Step 2:</b> There are 20,000 movies in `movie_story_student_file.csv`file. Use the `movies.csv` file to determine whether a movie is Drama or not. The final output of this step should be development of a dataframe file that contains three columns: 1) movieId, 2) story, 3) DramaGenre. The value for the third column should be in a binary format. If the movie is drama the value should be 1, otherwise 0. Name the new file as `main_dataset`. <br />\n",
    "<b>Step 3:</b> If you want to just have one train and one test set, then split the `main_dataset` to train and test sets. Otherwise you can use cross validation methods.  <br />\n",
    "<b>Step 4:</b> Use your supervised learning and text analysis knowledge to develope different predictive models (i.e. logestic regression, random forest, ...). Test the performance of your models in terms of accuracy, precision, recall, and F1 scores. <br />\n",
    "<b>Step 5:</b> Choose one of your best models (only one). Then use the full data available in `main dataset` to train that model.<br />\n",
    "<b>Step 6:</b> Prepare data in `movie_story_evaluation_file.csv` for prediction. You need to perform the exact same steps that you have done in <b>Step 2</b> to prepare this new dataset. Name the new dataset as `evaluation_dataset`. <br />\n",
    "<b>Step 7:</b> Use your selected model in Step 5 to predict whether or not movies in `evaluation_dataset` are Drama movies. <br />\n",
    "<b>Step 8:</b> Report the final accuracy, precision, recall and F1 score. <br />"
   ]
  },
  {
   "cell_type": "markdown",
   "id": "fe309a1b",
   "metadata": {},
   "source": [
    "-"
   ]
  },
  {
   "cell_type": "markdown",
   "id": "4bc15ebe",
   "metadata": {},
   "source": [
    "<h1 align='center' style=\"color: blue;\"> Approach and Solution</h1>"
   ]
  },
  {
   "cell_type": "markdown",
   "id": "357c4322",
   "metadata": {},
   "source": [
    "##### As stated in the project's additional guidelines, we will approach the problem step by step, adding comments at each step on how and what we did to arrive at a solution."
   ]
  },
  {
   "cell_type": "markdown",
   "id": "9fd648bd",
   "metadata": {},
   "source": [
    "<h3 align='left' style=\"color: Green ;\">Step 1: Explore Datasets </h3>\n",
    "\n",
    "Explore all files to become familiar with the dataset. Read movies.csv, movie_story_student_file.csv and  movie_story_evaluation_file.csv files"
   ]
  },
  {
   "cell_type": "markdown",
   "id": "013ffcbf",
   "metadata": {},
   "source": [
    "### Movies dataset"
   ]
  },
  {
   "cell_type": "markdown",
   "id": "d1eed492",
   "metadata": {},
   "source": [
    "The shape of the dataset is (23498, 3) that is 23498 rows/observations and 3 columns. The movies dataset contains movie ids, titles, and genres. \n",
    "\n",
    "> movieId: Each movie is given a unique identifier.\n",
    "\n",
    "> title: The title of the film includes the name of the movie as well as the year it was released. We can filter the movies released in any given year based on the year in the title and visualize them if necessary.\n",
    "\n",
    "> genres: This column describes the film's genre. This column can be used to sort a movie by movie genre. Our purpose is to find movies of the drama genre."
   ]
  },
  {
   "cell_type": "markdown",
   "id": "ecc86e17",
   "metadata": {},
   "source": [
    "<p>Let's have a look at the data.</p>"
   ]
  },
  {
   "cell_type": "code",
   "execution_count": 168,
   "id": "186876fc",
   "metadata": {},
   "outputs": [
    {
     "name": "stdout",
     "output_type": "stream",
     "text": [
      "(23498, 3)\n"
     ]
    },
    {
     "data": {
      "text/html": [
       "<div>\n",
       "<style scoped>\n",
       "    .dataframe tbody tr th:only-of-type {\n",
       "        vertical-align: middle;\n",
       "    }\n",
       "\n",
       "    .dataframe tbody tr th {\n",
       "        vertical-align: top;\n",
       "    }\n",
       "\n",
       "    .dataframe thead th {\n",
       "        text-align: right;\n",
       "    }\n",
       "</style>\n",
       "<table border=\"1\" class=\"dataframe\">\n",
       "  <thead>\n",
       "    <tr style=\"text-align: right;\">\n",
       "      <th></th>\n",
       "      <th>movieId</th>\n",
       "      <th>title</th>\n",
       "      <th>genres</th>\n",
       "    </tr>\n",
       "  </thead>\n",
       "  <tbody>\n",
       "    <tr>\n",
       "      <th>0</th>\n",
       "      <td>27509</td>\n",
       "      <td>Carolina (2005)</td>\n",
       "      <td>Comedy|Romance</td>\n",
       "    </tr>\n",
       "    <tr>\n",
       "      <th>1</th>\n",
       "      <td>27618</td>\n",
       "      <td>Sound of Thunder, A (2005)</td>\n",
       "      <td>Action|Adventure|Drama|Sci-Fi|Thriller</td>\n",
       "    </tr>\n",
       "    <tr>\n",
       "      <th>2</th>\n",
       "      <td>27788</td>\n",
       "      <td>Jacket, The (2005)</td>\n",
       "      <td>Drama|Mystery|Sci-Fi|Thriller</td>\n",
       "    </tr>\n",
       "    <tr>\n",
       "      <th>3</th>\n",
       "      <td>27821</td>\n",
       "      <td>Interpreter, The (2005)</td>\n",
       "      <td>Drama|Thriller</td>\n",
       "    </tr>\n",
       "    <tr>\n",
       "      <th>4</th>\n",
       "      <td>27839</td>\n",
       "      <td>Ring Two, The (2005)</td>\n",
       "      <td>Drama|Horror|Mystery|Thriller</td>\n",
       "    </tr>\n",
       "  </tbody>\n",
       "</table>\n",
       "</div>"
      ],
      "text/plain": [
       "   movieId                       title                                  genres\n",
       "0    27509             Carolina (2005)                          Comedy|Romance\n",
       "1    27618  Sound of Thunder, A (2005)  Action|Adventure|Drama|Sci-Fi|Thriller\n",
       "2    27788          Jacket, The (2005)           Drama|Mystery|Sci-Fi|Thriller\n",
       "3    27821     Interpreter, The (2005)                          Drama|Thriller\n",
       "4    27839        Ring Two, The (2005)           Drama|Horror|Mystery|Thriller"
      ]
     },
     "execution_count": 168,
     "metadata": {},
     "output_type": "execute_result"
    }
   ],
   "source": [
    "#View movies.csv file\n",
    "import warnings\n",
    "warnings.filterwarnings(\"ignore\")\n",
    "import pandas as pd\n",
    "movies = pd.read_csv('movies.csv')\n",
    "print(movies.shape)\n",
    "movies.head()"
   ]
  },
  {
   "cell_type": "markdown",
   "id": "41336a2d",
   "metadata": {},
   "source": [
    "#### We can use various filters to find movies based on their year of release, genre, and so on. Let us take a look."
   ]
  },
  {
   "cell_type": "code",
   "execution_count": 169,
   "id": "4afea19e",
   "metadata": {},
   "outputs": [
    {
     "name": "stdout",
     "output_type": "stream",
     "text": [
      "(1070, 3)\n"
     ]
    },
    {
     "data": {
      "text/html": [
       "<div>\n",
       "<style scoped>\n",
       "    .dataframe tbody tr th:only-of-type {\n",
       "        vertical-align: middle;\n",
       "    }\n",
       "\n",
       "    .dataframe tbody tr th {\n",
       "        vertical-align: top;\n",
       "    }\n",
       "\n",
       "    .dataframe thead th {\n",
       "        text-align: right;\n",
       "    }\n",
       "</style>\n",
       "<table border=\"1\" class=\"dataframe\">\n",
       "  <thead>\n",
       "    <tr style=\"text-align: right;\">\n",
       "      <th></th>\n",
       "      <th>movieId</th>\n",
       "      <th>title</th>\n",
       "      <th>genres</th>\n",
       "    </tr>\n",
       "  </thead>\n",
       "  <tbody>\n",
       "    <tr>\n",
       "      <th>0</th>\n",
       "      <td>27509</td>\n",
       "      <td>Carolina (2005)</td>\n",
       "      <td>Comedy|Romance</td>\n",
       "    </tr>\n",
       "    <tr>\n",
       "      <th>1</th>\n",
       "      <td>27618</td>\n",
       "      <td>Sound of Thunder, A (2005)</td>\n",
       "      <td>Action|Adventure|Drama|Sci-Fi|Thriller</td>\n",
       "    </tr>\n",
       "    <tr>\n",
       "      <th>2</th>\n",
       "      <td>27788</td>\n",
       "      <td>Jacket, The (2005)</td>\n",
       "      <td>Drama|Mystery|Sci-Fi|Thriller</td>\n",
       "    </tr>\n",
       "    <tr>\n",
       "      <th>3</th>\n",
       "      <td>27821</td>\n",
       "      <td>Interpreter, The (2005)</td>\n",
       "      <td>Drama|Thriller</td>\n",
       "    </tr>\n",
       "    <tr>\n",
       "      <th>4</th>\n",
       "      <td>27839</td>\n",
       "      <td>Ring Two, The (2005)</td>\n",
       "      <td>Drama|Horror|Mystery|Thriller</td>\n",
       "    </tr>\n",
       "  </tbody>\n",
       "</table>\n",
       "</div>"
      ],
      "text/plain": [
       "   movieId                       title                                  genres\n",
       "0    27509             Carolina (2005)                          Comedy|Romance\n",
       "1    27618  Sound of Thunder, A (2005)  Action|Adventure|Drama|Sci-Fi|Thriller\n",
       "2    27788          Jacket, The (2005)           Drama|Mystery|Sci-Fi|Thriller\n",
       "3    27821     Interpreter, The (2005)                          Drama|Thriller\n",
       "4    27839        Ring Two, The (2005)           Drama|Horror|Mystery|Thriller"
      ]
     },
     "execution_count": 169,
     "metadata": {},
     "output_type": "execute_result"
    }
   ],
   "source": [
    "#Filter data that are released in 2005\n",
    "\n",
    "flag2 = movies['title'].str.contains(\"2005\")\n",
    "filtered_movie_by_year = movies[flag2]\n",
    "print(filtered_movie_by_year.shape)\n",
    "filtered_movie_by_year.head()"
   ]
  },
  {
   "cell_type": "markdown",
   "id": "5cb177a5",
   "metadata": {},
   "source": [
    "##### Let's count the number of movies in each genre. \n",
    "\n",
    "Also, We assign values based on the values in the genres column;  for example if the movie genre is Drama, the value in the drame column is 1; otherwise, it is 0. "
   ]
  },
  {
   "cell_type": "code",
   "execution_count": 170,
   "id": "f1b2ffdb",
   "metadata": {},
   "outputs": [
    {
     "name": "stdout",
     "output_type": "stream",
     "text": [
      "['(no genres listed)', 'Action', 'Adventure', 'Animation', 'Children', 'Comedy', 'Crime', 'Documentary', 'Drama', 'Fantasy', 'Film-Noir', 'Horror', 'IMAX', 'Musical', 'Mystery', 'Romance', 'Sci-Fi', 'Thriller', 'War', 'Western']\n"
     ]
    },
    {
     "data": {
      "text/html": [
       "<div>\n",
       "<style scoped>\n",
       "    .dataframe tbody tr th:only-of-type {\n",
       "        vertical-align: middle;\n",
       "    }\n",
       "\n",
       "    .dataframe tbody tr th {\n",
       "        vertical-align: top;\n",
       "    }\n",
       "\n",
       "    .dataframe thead th {\n",
       "        text-align: right;\n",
       "    }\n",
       "</style>\n",
       "<table border=\"1\" class=\"dataframe\">\n",
       "  <thead>\n",
       "    <tr style=\"text-align: right;\">\n",
       "      <th></th>\n",
       "      <th>movieId</th>\n",
       "      <th>title</th>\n",
       "      <th>genres</th>\n",
       "      <th>(no genres listed)</th>\n",
       "      <th>Action</th>\n",
       "      <th>Adventure</th>\n",
       "      <th>Animation</th>\n",
       "      <th>Children</th>\n",
       "      <th>Comedy</th>\n",
       "      <th>Crime</th>\n",
       "      <th>...</th>\n",
       "      <th>Film-Noir</th>\n",
       "      <th>Horror</th>\n",
       "      <th>IMAX</th>\n",
       "      <th>Musical</th>\n",
       "      <th>Mystery</th>\n",
       "      <th>Romance</th>\n",
       "      <th>Sci-Fi</th>\n",
       "      <th>Thriller</th>\n",
       "      <th>War</th>\n",
       "      <th>Western</th>\n",
       "    </tr>\n",
       "  </thead>\n",
       "  <tbody>\n",
       "    <tr>\n",
       "      <th>0</th>\n",
       "      <td>27509</td>\n",
       "      <td>Carolina (2005)</td>\n",
       "      <td>Comedy|Romance</td>\n",
       "      <td>0</td>\n",
       "      <td>0</td>\n",
       "      <td>0</td>\n",
       "      <td>0</td>\n",
       "      <td>0</td>\n",
       "      <td>1</td>\n",
       "      <td>0</td>\n",
       "      <td>...</td>\n",
       "      <td>0</td>\n",
       "      <td>0</td>\n",
       "      <td>0</td>\n",
       "      <td>0</td>\n",
       "      <td>0</td>\n",
       "      <td>1</td>\n",
       "      <td>0</td>\n",
       "      <td>0</td>\n",
       "      <td>0</td>\n",
       "      <td>0</td>\n",
       "    </tr>\n",
       "    <tr>\n",
       "      <th>1</th>\n",
       "      <td>27618</td>\n",
       "      <td>Sound of Thunder, A (2005)</td>\n",
       "      <td>Action|Adventure|Drama|Sci-Fi|Thriller</td>\n",
       "      <td>0</td>\n",
       "      <td>1</td>\n",
       "      <td>1</td>\n",
       "      <td>0</td>\n",
       "      <td>0</td>\n",
       "      <td>0</td>\n",
       "      <td>0</td>\n",
       "      <td>...</td>\n",
       "      <td>0</td>\n",
       "      <td>0</td>\n",
       "      <td>0</td>\n",
       "      <td>0</td>\n",
       "      <td>0</td>\n",
       "      <td>0</td>\n",
       "      <td>1</td>\n",
       "      <td>1</td>\n",
       "      <td>0</td>\n",
       "      <td>0</td>\n",
       "    </tr>\n",
       "    <tr>\n",
       "      <th>2</th>\n",
       "      <td>27788</td>\n",
       "      <td>Jacket, The (2005)</td>\n",
       "      <td>Drama|Mystery|Sci-Fi|Thriller</td>\n",
       "      <td>0</td>\n",
       "      <td>0</td>\n",
       "      <td>0</td>\n",
       "      <td>0</td>\n",
       "      <td>0</td>\n",
       "      <td>0</td>\n",
       "      <td>0</td>\n",
       "      <td>...</td>\n",
       "      <td>0</td>\n",
       "      <td>0</td>\n",
       "      <td>0</td>\n",
       "      <td>0</td>\n",
       "      <td>1</td>\n",
       "      <td>0</td>\n",
       "      <td>1</td>\n",
       "      <td>1</td>\n",
       "      <td>0</td>\n",
       "      <td>0</td>\n",
       "    </tr>\n",
       "    <tr>\n",
       "      <th>3</th>\n",
       "      <td>27821</td>\n",
       "      <td>Interpreter, The (2005)</td>\n",
       "      <td>Drama|Thriller</td>\n",
       "      <td>0</td>\n",
       "      <td>0</td>\n",
       "      <td>0</td>\n",
       "      <td>0</td>\n",
       "      <td>0</td>\n",
       "      <td>0</td>\n",
       "      <td>0</td>\n",
       "      <td>...</td>\n",
       "      <td>0</td>\n",
       "      <td>0</td>\n",
       "      <td>0</td>\n",
       "      <td>0</td>\n",
       "      <td>0</td>\n",
       "      <td>0</td>\n",
       "      <td>0</td>\n",
       "      <td>1</td>\n",
       "      <td>0</td>\n",
       "      <td>0</td>\n",
       "    </tr>\n",
       "    <tr>\n",
       "      <th>4</th>\n",
       "      <td>27839</td>\n",
       "      <td>Ring Two, The (2005)</td>\n",
       "      <td>Drama|Horror|Mystery|Thriller</td>\n",
       "      <td>0</td>\n",
       "      <td>0</td>\n",
       "      <td>0</td>\n",
       "      <td>0</td>\n",
       "      <td>0</td>\n",
       "      <td>0</td>\n",
       "      <td>0</td>\n",
       "      <td>...</td>\n",
       "      <td>0</td>\n",
       "      <td>1</td>\n",
       "      <td>0</td>\n",
       "      <td>0</td>\n",
       "      <td>1</td>\n",
       "      <td>0</td>\n",
       "      <td>0</td>\n",
       "      <td>1</td>\n",
       "      <td>0</td>\n",
       "      <td>0</td>\n",
       "    </tr>\n",
       "  </tbody>\n",
       "</table>\n",
       "<p>5 rows × 23 columns</p>\n",
       "</div>"
      ],
      "text/plain": [
       "   movieId                       title  \\\n",
       "0    27509             Carolina (2005)   \n",
       "1    27618  Sound of Thunder, A (2005)   \n",
       "2    27788          Jacket, The (2005)   \n",
       "3    27821     Interpreter, The (2005)   \n",
       "4    27839        Ring Two, The (2005)   \n",
       "\n",
       "                                   genres  (no genres listed)  Action  \\\n",
       "0                          Comedy|Romance                   0       0   \n",
       "1  Action|Adventure|Drama|Sci-Fi|Thriller                   0       1   \n",
       "2           Drama|Mystery|Sci-Fi|Thriller                   0       0   \n",
       "3                          Drama|Thriller                   0       0   \n",
       "4           Drama|Horror|Mystery|Thriller                   0       0   \n",
       "\n",
       "   Adventure  Animation  Children  Comedy  Crime  ...  Film-Noir  Horror  \\\n",
       "0          0          0         0       1      0  ...          0       0   \n",
       "1          1          0         0       0      0  ...          0       0   \n",
       "2          0          0         0       0      0  ...          0       0   \n",
       "3          0          0         0       0      0  ...          0       0   \n",
       "4          0          0         0       0      0  ...          0       1   \n",
       "\n",
       "   IMAX  Musical  Mystery  Romance  Sci-Fi  Thriller  War  Western  \n",
       "0     0        0        0        1       0         0    0        0  \n",
       "1     0        0        0        0       1         1    0        0  \n",
       "2     0        0        1        0       1         1    0        0  \n",
       "3     0        0        0        0       0         1    0        0  \n",
       "4     0        0        1        0       0         1    0        0  \n",
       "\n",
       "[5 rows x 23 columns]"
      ]
     },
     "execution_count": 170,
     "metadata": {},
     "output_type": "execute_result"
    }
   ],
   "source": [
    "#Filter data based on movie genres list\n",
    "genres = movies['genres'].tolist()\n",
    "genres = '|'.join(genres)\n",
    "genres = genres.split('|')\n",
    "genres = sorted(list(set(genres)))\n",
    "print(genres)\n",
    "for genre in genres:\n",
    "    movies[genre] = movies['genres'].apply(lambda x: 1 if genre in x else 0)\n",
    "movies.head()"
   ]
  },
  {
   "cell_type": "markdown",
   "id": "7b0516cc",
   "metadata": {},
   "source": [
    "#### Lets print the count of movies in each genere and visualize them in bar graph "
   ]
  },
  {
   "cell_type": "code",
   "execution_count": 171,
   "id": "4f1c56c9",
   "metadata": {},
   "outputs": [
    {
     "name": "stdout",
     "output_type": "stream",
     "text": [
      "(no genres listed)    \t\t\t\t1310\n",
      "Action    \t\t\t\t2766\n",
      "Adventure    \t\t\t\t1390\n",
      "Animation    \t\t\t\t1150\n",
      "Children    \t\t\t\t1083\n",
      "Comedy    \t\t\t\t6141\n",
      "Crime    \t\t\t\t1711\n",
      "Documentary    \t\t\t\t3247\n",
      "Drama    \t\t\t\t9835\n",
      "Fantasy    \t\t\t\t1056\n",
      "Film-Noir    \t\t\t\t18\n",
      "Horror    \t\t\t\t2587\n",
      "IMAX    \t\t\t\t159\n",
      "Musical    \t\t\t\t214\n",
      "Mystery    \t\t\t\t1102\n",
      "Romance    \t\t\t\t2601\n",
      "Sci-Fi    \t\t\t\t1424\n",
      "Thriller    \t\t\t\t4027\n",
      "War    \t\t\t\t488\n",
      "Western    \t\t\t\t143\n"
     ]
    },
    {
     "data": {
      "image/png": "[encoded data removed]",
      "text/plain": [
       "<Figure size 432x288 with 1 Axes>"
      ]
     },
     "metadata": {},
     "output_type": "display_data"
    }
   ],
   "source": [
    "import matplotlib as mpl\n",
    "import matplotlib.pyplot as plt\n",
    "\n",
    "d ={}\n",
    "for i in movies.columns[3:]:\n",
    "    d[i]=movies[i].value_counts()[1]\n",
    "    print(\"{}    \\t\\t\\t\\t{}\".format(i,d[i]))\n",
    "\n",
    "# Bar graph \n",
    "plt.bar(height=d.values(),x=d.keys(), color = 'cornflowerblue')\n",
    "\n",
    "#labelling\n",
    "plt.title('Bar chart representing count of movies of diffirent genres')\n",
    "plt.ylabel('Number of Movies')\n",
    "plt.xlabel('Genre of movies')\n",
    "\n",
    "\n",
    "# To have a clear presentation\n",
    "plt.xticks(rotation=90)\n",
    "\n",
    "plt.show()"
   ]
  },
  {
   "cell_type": "markdown",
   "id": "de1290f3",
   "metadata": {},
   "source": [
    "<p><b>Note:</b> From the visualizaion results, the movies in Drama genre has the highest count .</p>"
   ]
  },
  {
   "cell_type": "markdown",
   "id": "2b33c65d",
   "metadata": {},
   "source": [
    "<p><b>Important point:</b> We also notice that several movies have No Genre specified ('(no genre listed)'). In the long run, training models with these numbers marked as non-dramatic will result in prediction inaccuracy, thus we must handle these values before training models. For improved training models and predictions, these values will be eliminated during pre-processing.</p>"
   ]
  },
  {
   "cell_type": "markdown",
   "id": "cc1404fc",
   "metadata": {},
   "source": [
    "-"
   ]
  },
  {
   "cell_type": "markdown",
   "id": "c26ac757",
   "metadata": {},
   "source": [
    "### Movie_story_student dataset"
   ]
  },
  {
   "cell_type": "code",
   "execution_count": 172,
   "id": "92d8ed73",
   "metadata": {},
   "outputs": [
    {
     "name": "stdout",
     "output_type": "stream",
     "text": [
      "(20000, 2)\n"
     ]
    },
    {
     "data": {
      "text/html": [
       "<div>\n",
       "<style scoped>\n",
       "    .dataframe tbody tr th:only-of-type {\n",
       "        vertical-align: middle;\n",
       "    }\n",
       "\n",
       "    .dataframe tbody tr th {\n",
       "        vertical-align: top;\n",
       "    }\n",
       "\n",
       "    .dataframe thead th {\n",
       "        text-align: right;\n",
       "    }\n",
       "</style>\n",
       "<table border=\"1\" class=\"dataframe\">\n",
       "  <thead>\n",
       "    <tr style=\"text-align: right;\">\n",
       "      <th></th>\n",
       "      <th>movie_id</th>\n",
       "      <th>story</th>\n",
       "    </tr>\n",
       "  </thead>\n",
       "  <tbody>\n",
       "    <tr>\n",
       "      <th>0</th>\n",
       "      <td>131072</td>\n",
       "      <td>A girl who always tends to fall in love with t...</td>\n",
       "    </tr>\n",
       "    <tr>\n",
       "      <th>1</th>\n",
       "      <td>196609</td>\n",
       "      <td>Bigfoot has come to the town of Ellwood City, ...</td>\n",
       "    </tr>\n",
       "    <tr>\n",
       "      <th>2</th>\n",
       "      <td>131074</td>\n",
       "      <td>At an altitude of 18,000 feet, Alaska\\'s Mount...</td>\n",
       "    </tr>\n",
       "    <tr>\n",
       "      <th>3</th>\n",
       "      <td>196611</td>\n",
       "      <td>In her first special since 2003, Ellen revisit...</td>\n",
       "    </tr>\n",
       "    <tr>\n",
       "      <th>4</th>\n",
       "      <td>196613</td>\n",
       "      <td>Mike and Sulley are back at Monsters Universit...</td>\n",
       "    </tr>\n",
       "  </tbody>\n",
       "</table>\n",
       "</div>"
      ],
      "text/plain": [
       "   movie_id                                              story\n",
       "0    131072  A girl who always tends to fall in love with t...\n",
       "1    196609  Bigfoot has come to the town of Ellwood City, ...\n",
       "2    131074  At an altitude of 18,000 feet, Alaska\\'s Mount...\n",
       "3    196611  In her first special since 2003, Ellen revisit...\n",
       "4    196613  Mike and Sulley are back at Monsters Universit..."
      ]
     },
     "execution_count": 172,
     "metadata": {},
     "output_type": "execute_result"
    }
   ],
   "source": [
    "# View movie_story_student_file.csv file\n",
    "import pandas as pd\n",
    "student_file = pd.read_csv('movie_story_student_file.csv')\n",
    "print(student_file.shape)\n",
    "student_file.head()"
   ]
  },
  {
   "cell_type": "markdown",
   "id": "651660f6",
   "metadata": {},
   "source": [
    "The shape of the dataset is (20000, 2) that is 20000 rows/observations and 2 columns. The dataset contains movie ids, and story. \n",
    "\n",
    "> movieId: Each movie is given a unique identifier. This identifier can be used for joining or grouping two or more data sets. for example, join movies and  movie_story_student_file.csv file or movies and movie_story_evaluation_file.csv file\n",
    "\n",
    "> story: Story column gives the summary of the movie. This particular column can be used to apply text analysis methods and find out the genere of the movie. we will see applying the TA methods in pre processing step."
   ]
  },
  {
   "cell_type": "markdown",
   "id": "04df8639",
   "metadata": {},
   "source": [
    "-"
   ]
  },
  {
   "cell_type": "markdown",
   "id": "1a7bb2ff",
   "metadata": {},
   "source": [
    "### Movie_story_evaluation dataset"
   ]
  },
  {
   "cell_type": "code",
   "execution_count": 173,
   "id": "51b09854",
   "metadata": {},
   "outputs": [
    {
     "name": "stdout",
     "output_type": "stream",
     "text": [
      "(3498, 2)\n"
     ]
    },
    {
     "data": {
      "text/html": [
       "<div>\n",
       "<style scoped>\n",
       "    .dataframe tbody tr th:only-of-type {\n",
       "        vertical-align: middle;\n",
       "    }\n",
       "\n",
       "    .dataframe tbody tr th {\n",
       "        vertical-align: top;\n",
       "    }\n",
       "\n",
       "    .dataframe thead th {\n",
       "        text-align: right;\n",
       "    }\n",
       "</style>\n",
       "<table border=\"1\" class=\"dataframe\">\n",
       "  <thead>\n",
       "    <tr style=\"text-align: right;\">\n",
       "      <th></th>\n",
       "      <th>movie_id</th>\n",
       "      <th>story</th>\n",
       "    </tr>\n",
       "  </thead>\n",
       "  <tbody>\n",
       "    <tr>\n",
       "      <th>0</th>\n",
       "      <td>122349</td>\n",
       "      <td>Growing up in the Mission district of San Fran...</td>\n",
       "    </tr>\n",
       "    <tr>\n",
       "      <th>1</th>\n",
       "      <td>122351</td>\n",
       "      <td>A soldier returns home from the Iraq war only ...</td>\n",
       "    </tr>\n",
       "    <tr>\n",
       "      <th>2</th>\n",
       "      <td>122361</td>\n",
       "      <td>Marco the Monkey works as a beach officer. But...</td>\n",
       "    </tr>\n",
       "    <tr>\n",
       "      <th>3</th>\n",
       "      <td>187901</td>\n",
       "      <td>When an honest cop, Vijay Kumar\\'s family is r...</td>\n",
       "    </tr>\n",
       "    <tr>\n",
       "      <th>4</th>\n",
       "      <td>187903</td>\n",
       "      <td>Kathiresan aka Kaththi, a criminal, escapes fr...</td>\n",
       "    </tr>\n",
       "  </tbody>\n",
       "</table>\n",
       "</div>"
      ],
      "text/plain": [
       "   movie_id                                              story\n",
       "0    122349  Growing up in the Mission district of San Fran...\n",
       "1    122351  A soldier returns home from the Iraq war only ...\n",
       "2    122361  Marco the Monkey works as a beach officer. But...\n",
       "3    187901  When an honest cop, Vijay Kumar\\'s family is r...\n",
       "4    187903  Kathiresan aka Kaththi, a criminal, escapes fr..."
      ]
     },
     "execution_count": 173,
     "metadata": {},
     "output_type": "execute_result"
    }
   ],
   "source": [
    "#View movie story evaluation file.csv file\n",
    "import pandas as pd\n",
    "evaluation_file = pd.read_csv('movie_story_evaluation_file.csv')\n",
    "print(evaluation_file.shape)\n",
    "evaluation_file.head()"
   ]
  },
  {
   "cell_type": "markdown",
   "id": "319bd907",
   "metadata": {},
   "source": [
    "The shape of the dataset is (3498, 2) that is 3498 rows/observations and 2 columns. The dataset contains movie ids, and story. This dataset can be used to make predictions using the best prediction model."
   ]
  },
  {
   "cell_type": "markdown",
   "id": "1c915ce7",
   "metadata": {},
   "source": [
    "-"
   ]
  },
  {
   "cell_type": "markdown",
   "id": "16c0bf12",
   "metadata": {},
   "source": [
    "<h3 align='left' style=\"color: Green ;\"> Step 2: Pre - Processing </h3>\n",
    "\n",
    "Development of a dataframe file that contains three columns: 1) movieId, 2) story, 3) DramaGenre using movies and Movie_story_student dataset. The value for the third column should be in a binary format. If the movie is drama the value should be 1, otherwise 0. Name the new file as main_dataset.\n"
   ]
  },
  {
   "cell_type": "markdown",
   "id": "26f34233",
   "metadata": {},
   "source": [
    "<p align='left' style=\"color: red \">A) Check if there are any null values in all three dataset.</p>"
   ]
  },
  {
   "cell_type": "code",
   "execution_count": 174,
   "id": "64408369",
   "metadata": {},
   "outputs": [
    {
     "data": {
      "text/plain": [
       "movieId               False\n",
       "title                 False\n",
       "genres                False\n",
       "(no genres listed)    False\n",
       "Action                False\n",
       "Adventure             False\n",
       "Animation             False\n",
       "Children              False\n",
       "Comedy                False\n",
       "Crime                 False\n",
       "Documentary           False\n",
       "Drama                 False\n",
       "Fantasy               False\n",
       "Film-Noir             False\n",
       "Horror                False\n",
       "IMAX                  False\n",
       "Musical               False\n",
       "Mystery               False\n",
       "Romance               False\n",
       "Sci-Fi                False\n",
       "Thriller              False\n",
       "War                   False\n",
       "Western               False\n",
       "dtype: bool"
      ]
     },
     "execution_count": 174,
     "metadata": {},
     "output_type": "execute_result"
    }
   ],
   "source": [
    "#movies dataset\n",
    "movies.isnull().any() "
   ]
  },
  {
   "cell_type": "code",
   "execution_count": 175,
   "id": "8d9ca18e",
   "metadata": {},
   "outputs": [
    {
     "data": {
      "text/plain": [
       "movie_id    False\n",
       "story       False\n",
       "dtype: bool"
      ]
     },
     "execution_count": 175,
     "metadata": {},
     "output_type": "execute_result"
    }
   ],
   "source": [
    "#story_student file dataset\n",
    "student_file.isnull().any() "
   ]
  },
  {
   "cell_type": "code",
   "execution_count": 176,
   "id": "d909d09f",
   "metadata": {},
   "outputs": [
    {
     "data": {
      "text/plain": [
       "movie_id    False\n",
       "story       False\n",
       "dtype: bool"
      ]
     },
     "execution_count": 176,
     "metadata": {},
     "output_type": "execute_result"
    }
   ],
   "source": [
    "#story_evaluation file dataset\n",
    "evaluation_file.isnull().any() "
   ]
  },
  {
   "cell_type": "markdown",
   "id": "8ccfaa26",
   "metadata": {},
   "source": [
    "Note: No Null values found in any of the datasets"
   ]
  },
  {
   "cell_type": "markdown",
   "id": "04ddd04f",
   "metadata": {},
   "source": [
    "<p align='left' style=\"color: red \">B) Handling No genre list values.</p>"
   ]
  },
  {
   "cell_type": "code",
   "execution_count": 177,
   "id": "abdb7c05",
   "metadata": {},
   "outputs": [
    {
     "data": {
      "text/html": [
       "<div>\n",
       "<style scoped>\n",
       "    .dataframe tbody tr th:only-of-type {\n",
       "        vertical-align: middle;\n",
       "    }\n",
       "\n",
       "    .dataframe tbody tr th {\n",
       "        vertical-align: top;\n",
       "    }\n",
       "\n",
       "    .dataframe thead th {\n",
       "        text-align: right;\n",
       "    }\n",
       "</style>\n",
       "<table border=\"1\" class=\"dataframe\">\n",
       "  <thead>\n",
       "    <tr style=\"text-align: right;\">\n",
       "      <th></th>\n",
       "      <th>movieId</th>\n",
       "      <th>title</th>\n",
       "      <th>genres</th>\n",
       "      <th>(no genres listed)</th>\n",
       "      <th>Action</th>\n",
       "      <th>Adventure</th>\n",
       "      <th>Animation</th>\n",
       "      <th>Children</th>\n",
       "      <th>Comedy</th>\n",
       "      <th>Crime</th>\n",
       "      <th>...</th>\n",
       "      <th>Film-Noir</th>\n",
       "      <th>Horror</th>\n",
       "      <th>IMAX</th>\n",
       "      <th>Musical</th>\n",
       "      <th>Mystery</th>\n",
       "      <th>Romance</th>\n",
       "      <th>Sci-Fi</th>\n",
       "      <th>Thriller</th>\n",
       "      <th>War</th>\n",
       "      <th>Western</th>\n",
       "    </tr>\n",
       "  </thead>\n",
       "  <tbody>\n",
       "    <tr>\n",
       "      <th>3810</th>\n",
       "      <td>91246</td>\n",
       "      <td>Milky Way (Tejút) (2007)</td>\n",
       "      <td>(no genres listed)</td>\n",
       "      <td>1</td>\n",
       "      <td>0</td>\n",
       "      <td>0</td>\n",
       "      <td>0</td>\n",
       "      <td>0</td>\n",
       "      <td>0</td>\n",
       "      <td>0</td>\n",
       "      <td>...</td>\n",
       "      <td>0</td>\n",
       "      <td>0</td>\n",
       "      <td>0</td>\n",
       "      <td>0</td>\n",
       "      <td>0</td>\n",
       "      <td>0</td>\n",
       "      <td>0</td>\n",
       "      <td>0</td>\n",
       "      <td>0</td>\n",
       "      <td>0</td>\n",
       "    </tr>\n",
       "    <tr>\n",
       "      <th>6530</th>\n",
       "      <td>115004</td>\n",
       "      <td>It's My Mother's Birthday Today (2008)</td>\n",
       "      <td>(no genres listed)</td>\n",
       "      <td>1</td>\n",
       "      <td>0</td>\n",
       "      <td>0</td>\n",
       "      <td>0</td>\n",
       "      <td>0</td>\n",
       "      <td>0</td>\n",
       "      <td>0</td>\n",
       "      <td>...</td>\n",
       "      <td>0</td>\n",
       "      <td>0</td>\n",
       "      <td>0</td>\n",
       "      <td>0</td>\n",
       "      <td>0</td>\n",
       "      <td>0</td>\n",
       "      <td>0</td>\n",
       "      <td>0</td>\n",
       "      <td>0</td>\n",
       "      <td>0</td>\n",
       "    </tr>\n",
       "    <tr>\n",
       "      <th>6661</th>\n",
       "      <td>116126</td>\n",
       "      <td>Complicit (2013)</td>\n",
       "      <td>(no genres listed)</td>\n",
       "      <td>1</td>\n",
       "      <td>0</td>\n",
       "      <td>0</td>\n",
       "      <td>0</td>\n",
       "      <td>0</td>\n",
       "      <td>0</td>\n",
       "      <td>0</td>\n",
       "      <td>...</td>\n",
       "      <td>0</td>\n",
       "      <td>0</td>\n",
       "      <td>0</td>\n",
       "      <td>0</td>\n",
       "      <td>0</td>\n",
       "      <td>0</td>\n",
       "      <td>0</td>\n",
       "      <td>0</td>\n",
       "      <td>0</td>\n",
       "      <td>0</td>\n",
       "    </tr>\n",
       "    <tr>\n",
       "      <th>7064</th>\n",
       "      <td>118878</td>\n",
       "      <td>Sekirei (2008)</td>\n",
       "      <td>(no genres listed)</td>\n",
       "      <td>1</td>\n",
       "      <td>0</td>\n",
       "      <td>0</td>\n",
       "      <td>0</td>\n",
       "      <td>0</td>\n",
       "      <td>0</td>\n",
       "      <td>0</td>\n",
       "      <td>...</td>\n",
       "      <td>0</td>\n",
       "      <td>0</td>\n",
       "      <td>0</td>\n",
       "      <td>0</td>\n",
       "      <td>0</td>\n",
       "      <td>0</td>\n",
       "      <td>0</td>\n",
       "      <td>0</td>\n",
       "      <td>0</td>\n",
       "      <td>0</td>\n",
       "    </tr>\n",
       "    <tr>\n",
       "      <th>7481</th>\n",
       "      <td>122573</td>\n",
       "      <td>Expecting Amish (2014)</td>\n",
       "      <td>(no genres listed)</td>\n",
       "      <td>1</td>\n",
       "      <td>0</td>\n",
       "      <td>0</td>\n",
       "      <td>0</td>\n",
       "      <td>0</td>\n",
       "      <td>0</td>\n",
       "      <td>0</td>\n",
       "      <td>...</td>\n",
       "      <td>0</td>\n",
       "      <td>0</td>\n",
       "      <td>0</td>\n",
       "      <td>0</td>\n",
       "      <td>0</td>\n",
       "      <td>0</td>\n",
       "      <td>0</td>\n",
       "      <td>0</td>\n",
       "      <td>0</td>\n",
       "      <td>0</td>\n",
       "    </tr>\n",
       "  </tbody>\n",
       "</table>\n",
       "<p>5 rows × 23 columns</p>\n",
       "</div>"
      ],
      "text/plain": [
       "      movieId                                   title              genres  \\\n",
       "3810    91246                Milky Way (Tejút) (2007)  (no genres listed)   \n",
       "6530   115004  It's My Mother's Birthday Today (2008)  (no genres listed)   \n",
       "6661   116126                        Complicit (2013)  (no genres listed)   \n",
       "7064   118878                          Sekirei (2008)  (no genres listed)   \n",
       "7481   122573                  Expecting Amish (2014)  (no genres listed)   \n",
       "\n",
       "      (no genres listed)  Action  Adventure  Animation  Children  Comedy  \\\n",
       "3810                   1       0          0          0         0       0   \n",
       "6530                   1       0          0          0         0       0   \n",
       "6661                   1       0          0          0         0       0   \n",
       "7064                   1       0          0          0         0       0   \n",
       "7481                   1       0          0          0         0       0   \n",
       "\n",
       "      Crime  ...  Film-Noir  Horror  IMAX  Musical  Mystery  Romance  Sci-Fi  \\\n",
       "3810      0  ...          0       0     0        0        0        0       0   \n",
       "6530      0  ...          0       0     0        0        0        0       0   \n",
       "6661      0  ...          0       0     0        0        0        0       0   \n",
       "7064      0  ...          0       0     0        0        0        0       0   \n",
       "7481      0  ...          0       0     0        0        0        0       0   \n",
       "\n",
       "      Thriller  War  Western  \n",
       "3810         0    0        0  \n",
       "6530         0    0        0  \n",
       "6661         0    0        0  \n",
       "7064         0    0        0  \n",
       "7481         0    0        0  \n",
       "\n",
       "[5 rows x 23 columns]"
      ]
     },
     "execution_count": 177,
     "metadata": {},
     "output_type": "execute_result"
    }
   ],
   "source": [
    "#Filtering No genre list to a new data frame \"filtered_no_genre\" for later point of use in the project\n",
    "no_genre_list = movies['genres'].str.contains(\"(no genres listed)\")\n",
    "filtered_no_genre = movies[no_genre_list]\n",
    "filtered_no_genre.head()"
   ]
  },
  {
   "cell_type": "code",
   "execution_count": 178,
   "id": "ac74925c",
   "metadata": {},
   "outputs": [
    {
     "data": {
      "text/plain": [
       "(22188, 23)"
      ]
     },
     "execution_count": 178,
     "metadata": {},
     "output_type": "execute_result"
    }
   ],
   "source": [
    "#Drop (no genre listed) Values from the dataset and check shape.\n",
    "for i in filtered_no_genre.index:\n",
    "    movies.drop(i,inplace=True)\n",
    "movies.shape"
   ]
  },
  {
   "cell_type": "markdown",
   "id": "3026d945",
   "metadata": {},
   "source": [
    "<p align='left' style=\"color: red\">C) Renaming the cloumn name of movies dataset.</p>\n",
    "\n",
    "Take note that the names of the movie Id columns in the movies dataset and the other datasets differ. To join the datasets, we must rename the column names in the movies dataset to match those in the student and evaluation files. "
   ]
  },
  {
   "cell_type": "code",
   "execution_count": 179,
   "id": "05b100f1",
   "metadata": {},
   "outputs": [
    {
     "data": {
      "text/plain": [
       "(22188, 23)"
      ]
     },
     "execution_count": 179,
     "metadata": {},
     "output_type": "execute_result"
    }
   ],
   "source": [
    "#Rename column\n",
    "movies = movies.rename(columns={'movieId':'movie_id'}) \n",
    "movies.shape"
   ]
  },
  {
   "cell_type": "markdown",
   "id": "7e62bc1c",
   "metadata": {},
   "source": [
    "<p align='left' style=\"color: red\">D) Create a main dataset by merging the movies and story student file datasets. In the following section, we will develop this main_dataset data frame file, which contains three columns: 1) movieId, 2) story, 3) DramaGenre</p>\n",
    "\n"
   ]
  },
  {
   "cell_type": "code",
   "execution_count": 180,
   "id": "b6d3d0d9",
   "metadata": {},
   "outputs": [
    {
     "name": "stdout",
     "output_type": "stream",
     "text": [
      "(18886, 24)\n"
     ]
    },
    {
     "data": {
      "text/html": [
       "<div>\n",
       "<style scoped>\n",
       "    .dataframe tbody tr th:only-of-type {\n",
       "        vertical-align: middle;\n",
       "    }\n",
       "\n",
       "    .dataframe tbody tr th {\n",
       "        vertical-align: top;\n",
       "    }\n",
       "\n",
       "    .dataframe thead th {\n",
       "        text-align: right;\n",
       "    }\n",
       "</style>\n",
       "<table border=\"1\" class=\"dataframe\">\n",
       "  <thead>\n",
       "    <tr style=\"text-align: right;\">\n",
       "      <th></th>\n",
       "      <th>movie_id</th>\n",
       "      <th>title</th>\n",
       "      <th>genres</th>\n",
       "      <th>(no genres listed)</th>\n",
       "      <th>Action</th>\n",
       "      <th>Adventure</th>\n",
       "      <th>Animation</th>\n",
       "      <th>Children</th>\n",
       "      <th>Comedy</th>\n",
       "      <th>Crime</th>\n",
       "      <th>...</th>\n",
       "      <th>Horror</th>\n",
       "      <th>IMAX</th>\n",
       "      <th>Musical</th>\n",
       "      <th>Mystery</th>\n",
       "      <th>Romance</th>\n",
       "      <th>Sci-Fi</th>\n",
       "      <th>Thriller</th>\n",
       "      <th>War</th>\n",
       "      <th>Western</th>\n",
       "      <th>story</th>\n",
       "    </tr>\n",
       "  </thead>\n",
       "  <tbody>\n",
       "    <tr>\n",
       "      <th>0</th>\n",
       "      <td>27509</td>\n",
       "      <td>Carolina (2005)</td>\n",
       "      <td>Comedy|Romance</td>\n",
       "      <td>0</td>\n",
       "      <td>0</td>\n",
       "      <td>0</td>\n",
       "      <td>0</td>\n",
       "      <td>0</td>\n",
       "      <td>1</td>\n",
       "      <td>0</td>\n",
       "      <td>...</td>\n",
       "      <td>0</td>\n",
       "      <td>0</td>\n",
       "      <td>0</td>\n",
       "      <td>0</td>\n",
       "      <td>1</td>\n",
       "      <td>0</td>\n",
       "      <td>0</td>\n",
       "      <td>0</td>\n",
       "      <td>0</td>\n",
       "      <td>A young woman escapes her wildly eccentric fam...</td>\n",
       "    </tr>\n",
       "    <tr>\n",
       "      <th>1</th>\n",
       "      <td>27618</td>\n",
       "      <td>Sound of Thunder, A (2005)</td>\n",
       "      <td>Action|Adventure|Drama|Sci-Fi|Thriller</td>\n",
       "      <td>0</td>\n",
       "      <td>1</td>\n",
       "      <td>1</td>\n",
       "      <td>0</td>\n",
       "      <td>0</td>\n",
       "      <td>0</td>\n",
       "      <td>0</td>\n",
       "      <td>...</td>\n",
       "      <td>0</td>\n",
       "      <td>0</td>\n",
       "      <td>0</td>\n",
       "      <td>0</td>\n",
       "      <td>0</td>\n",
       "      <td>1</td>\n",
       "      <td>1</td>\n",
       "      <td>0</td>\n",
       "      <td>0</td>\n",
       "      <td>When a hunter sent back to the prehistoric era...</td>\n",
       "    </tr>\n",
       "    <tr>\n",
       "      <th>2</th>\n",
       "      <td>27788</td>\n",
       "      <td>Jacket, The (2005)</td>\n",
       "      <td>Drama|Mystery|Sci-Fi|Thriller</td>\n",
       "      <td>0</td>\n",
       "      <td>0</td>\n",
       "      <td>0</td>\n",
       "      <td>0</td>\n",
       "      <td>0</td>\n",
       "      <td>0</td>\n",
       "      <td>0</td>\n",
       "      <td>...</td>\n",
       "      <td>0</td>\n",
       "      <td>0</td>\n",
       "      <td>0</td>\n",
       "      <td>1</td>\n",
       "      <td>0</td>\n",
       "      <td>1</td>\n",
       "      <td>1</td>\n",
       "      <td>0</td>\n",
       "      <td>0</td>\n",
       "      <td>A military veteran goes on a journey into the ...</td>\n",
       "    </tr>\n",
       "    <tr>\n",
       "      <th>3</th>\n",
       "      <td>27821</td>\n",
       "      <td>Interpreter, The (2005)</td>\n",
       "      <td>Drama|Thriller</td>\n",
       "      <td>0</td>\n",
       "      <td>0</td>\n",
       "      <td>0</td>\n",
       "      <td>0</td>\n",
       "      <td>0</td>\n",
       "      <td>0</td>\n",
       "      <td>0</td>\n",
       "      <td>...</td>\n",
       "      <td>0</td>\n",
       "      <td>0</td>\n",
       "      <td>0</td>\n",
       "      <td>0</td>\n",
       "      <td>0</td>\n",
       "      <td>0</td>\n",
       "      <td>1</td>\n",
       "      <td>0</td>\n",
       "      <td>0</td>\n",
       "      <td>After Silvia Broome, an interpreter at United ...</td>\n",
       "    </tr>\n",
       "    <tr>\n",
       "      <th>4</th>\n",
       "      <td>27839</td>\n",
       "      <td>Ring Two, The (2005)</td>\n",
       "      <td>Drama|Horror|Mystery|Thriller</td>\n",
       "      <td>0</td>\n",
       "      <td>0</td>\n",
       "      <td>0</td>\n",
       "      <td>0</td>\n",
       "      <td>0</td>\n",
       "      <td>0</td>\n",
       "      <td>0</td>\n",
       "      <td>...</td>\n",
       "      <td>1</td>\n",
       "      <td>0</td>\n",
       "      <td>0</td>\n",
       "      <td>1</td>\n",
       "      <td>0</td>\n",
       "      <td>0</td>\n",
       "      <td>1</td>\n",
       "      <td>0</td>\n",
       "      <td>0</td>\n",
       "      <td>Rachel Keller must prevent evil Samara from ta...</td>\n",
       "    </tr>\n",
       "  </tbody>\n",
       "</table>\n",
       "<p>5 rows × 24 columns</p>\n",
       "</div>"
      ],
      "text/plain": [
       "   movie_id                       title  \\\n",
       "0     27509             Carolina (2005)   \n",
       "1     27618  Sound of Thunder, A (2005)   \n",
       "2     27788          Jacket, The (2005)   \n",
       "3     27821     Interpreter, The (2005)   \n",
       "4     27839        Ring Two, The (2005)   \n",
       "\n",
       "                                   genres  (no genres listed)  Action  \\\n",
       "0                          Comedy|Romance                   0       0   \n",
       "1  Action|Adventure|Drama|Sci-Fi|Thriller                   0       1   \n",
       "2           Drama|Mystery|Sci-Fi|Thriller                   0       0   \n",
       "3                          Drama|Thriller                   0       0   \n",
       "4           Drama|Horror|Mystery|Thriller                   0       0   \n",
       "\n",
       "   Adventure  Animation  Children  Comedy  Crime  ...  Horror  IMAX  Musical  \\\n",
       "0          0          0         0       1      0  ...       0     0        0   \n",
       "1          1          0         0       0      0  ...       0     0        0   \n",
       "2          0          0         0       0      0  ...       0     0        0   \n",
       "3          0          0         0       0      0  ...       0     0        0   \n",
       "4          0          0         0       0      0  ...       1     0        0   \n",
       "\n",
       "   Mystery  Romance  Sci-Fi  Thriller  War  Western  \\\n",
       "0        0        1       0         0    0        0   \n",
       "1        0        0       1         1    0        0   \n",
       "2        1        0       1         1    0        0   \n",
       "3        0        0       0         1    0        0   \n",
       "4        1        0       0         1    0        0   \n",
       "\n",
       "                                               story  \n",
       "0  A young woman escapes her wildly eccentric fam...  \n",
       "1  When a hunter sent back to the prehistoric era...  \n",
       "2  A military veteran goes on a journey into the ...  \n",
       "3  After Silvia Broome, an interpreter at United ...  \n",
       "4  Rachel Keller must prevent evil Samara from ta...  \n",
       "\n",
       "[5 rows x 24 columns]"
      ]
     },
     "execution_count": 180,
     "metadata": {},
     "output_type": "execute_result"
    }
   ],
   "source": [
    "#merge datasets\n",
    "main_dataset = pd.merge(movies,student_file, on='movie_id')\n",
    "print(main_dataset.shape)\n",
    "main_dataset.head()"
   ]
  },
  {
   "cell_type": "markdown",
   "id": "be62589f",
   "metadata": {},
   "source": [
    "<p align='left' style=\"color: red\">E) Checking if there are any missing values or NAN values in main_dataset after merging.</p>"
   ]
  },
  {
   "cell_type": "code",
   "execution_count": 181,
   "id": "7076be3f",
   "metadata": {},
   "outputs": [
    {
     "data": {
      "text/plain": [
       "movie_id              False\n",
       "title                 False\n",
       "genres                False\n",
       "(no genres listed)    False\n",
       "Action                False\n",
       "Adventure             False\n",
       "Animation             False\n",
       "Children              False\n",
       "Comedy                False\n",
       "Crime                 False\n",
       "Documentary           False\n",
       "Drama                 False\n",
       "Fantasy               False\n",
       "Film-Noir             False\n",
       "Horror                False\n",
       "IMAX                  False\n",
       "Musical               False\n",
       "Mystery               False\n",
       "Romance               False\n",
       "Sci-Fi                False\n",
       "Thriller              False\n",
       "War                   False\n",
       "Western               False\n",
       "story                 False\n",
       "dtype: bool"
      ]
     },
     "execution_count": 181,
     "metadata": {},
     "output_type": "execute_result"
    }
   ],
   "source": [
    "#Check null values in main_dataset\n",
    "main_dataset.isnull().any() "
   ]
  },
  {
   "cell_type": "markdown",
   "id": "e1b08cf3",
   "metadata": {},
   "source": [
    "<p><b>Note:</b> No Null values found in any of the datasets.</p>"
   ]
  },
  {
   "cell_type": "markdown",
   "id": "df8cb5c7",
   "metadata": {},
   "source": [
    "<p align='left' style=\"color: red\">E) Dropping the title and genres columns (except Drama) such that it will have only movie_id , story and DramaGenre columns in the final output of main_dataset file.</p>\n"
   ]
  },
  {
   "cell_type": "code",
   "execution_count": 182,
   "id": "ece5032c",
   "metadata": {},
   "outputs": [
    {
     "data": {
      "text/html": [
       "<div>\n",
       "<style scoped>\n",
       "    .dataframe tbody tr th:only-of-type {\n",
       "        vertical-align: middle;\n",
       "    }\n",
       "\n",
       "    .dataframe tbody tr th {\n",
       "        vertical-align: top;\n",
       "    }\n",
       "\n",
       "    .dataframe thead th {\n",
       "        text-align: right;\n",
       "    }\n",
       "</style>\n",
       "<table border=\"1\" class=\"dataframe\">\n",
       "  <thead>\n",
       "    <tr style=\"text-align: right;\">\n",
       "      <th></th>\n",
       "      <th>movie_id</th>\n",
       "      <th>DramaGenre</th>\n",
       "      <th>story</th>\n",
       "    </tr>\n",
       "  </thead>\n",
       "  <tbody>\n",
       "    <tr>\n",
       "      <th>0</th>\n",
       "      <td>27509</td>\n",
       "      <td>0</td>\n",
       "      <td>A young woman escapes her wildly eccentric fam...</td>\n",
       "    </tr>\n",
       "    <tr>\n",
       "      <th>1</th>\n",
       "      <td>27618</td>\n",
       "      <td>1</td>\n",
       "      <td>When a hunter sent back to the prehistoric era...</td>\n",
       "    </tr>\n",
       "    <tr>\n",
       "      <th>2</th>\n",
       "      <td>27788</td>\n",
       "      <td>1</td>\n",
       "      <td>A military veteran goes on a journey into the ...</td>\n",
       "    </tr>\n",
       "    <tr>\n",
       "      <th>3</th>\n",
       "      <td>27821</td>\n",
       "      <td>1</td>\n",
       "      <td>After Silvia Broome, an interpreter at United ...</td>\n",
       "    </tr>\n",
       "    <tr>\n",
       "      <th>4</th>\n",
       "      <td>27839</td>\n",
       "      <td>1</td>\n",
       "      <td>Rachel Keller must prevent evil Samara from ta...</td>\n",
       "    </tr>\n",
       "    <tr>\n",
       "      <th>5</th>\n",
       "      <td>27881</td>\n",
       "      <td>0</td>\n",
       "      <td>A comic drama about a time in the near future ...</td>\n",
       "    </tr>\n",
       "    <tr>\n",
       "      <th>6</th>\n",
       "      <td>27904</td>\n",
       "      <td>1</td>\n",
       "      <td>An undercover cop in a not-too-distant future ...</td>\n",
       "    </tr>\n",
       "    <tr>\n",
       "      <th>7</th>\n",
       "      <td>30793</td>\n",
       "      <td>0</td>\n",
       "      <td>A young boy wins a tour through the most magni...</td>\n",
       "    </tr>\n",
       "    <tr>\n",
       "      <th>8</th>\n",
       "      <td>30894</td>\n",
       "      <td>1</td>\n",
       "      <td>An architect\\'s desire to speak with his wife ...</td>\n",
       "    </tr>\n",
       "    <tr>\n",
       "      <th>9</th>\n",
       "      <td>30896</td>\n",
       "      <td>0</td>\n",
       "      <td>A young detective goes undercover at an elite ...</td>\n",
       "    </tr>\n",
       "    <tr>\n",
       "      <th>10</th>\n",
       "      <td>30898</td>\n",
       "      <td>1</td>\n",
       "      <td>After her husband runs off with his secretary,...</td>\n",
       "    </tr>\n",
       "    <tr>\n",
       "      <th>11</th>\n",
       "      <td>31221</td>\n",
       "      <td>1</td>\n",
       "      <td>Elektra the warrior survives a near-death expe...</td>\n",
       "    </tr>\n",
       "    <tr>\n",
       "      <th>12</th>\n",
       "      <td>31223</td>\n",
       "      <td>0</td>\n",
       "      <td>Shattered illusions are hard to repair -- espe...</td>\n",
       "    </tr>\n",
       "    <tr>\n",
       "      <th>13</th>\n",
       "      <td>31225</td>\n",
       "      <td>1</td>\n",
       "      <td>Based on a true story, in which Richmond High ...</td>\n",
       "    </tr>\n",
       "    <tr>\n",
       "      <th>14</th>\n",
       "      <td>31420</td>\n",
       "      <td>1</td>\n",
       "      <td>On New Year\\'s Eve, inside a police station th...</td>\n",
       "    </tr>\n",
       "    <tr>\n",
       "      <th>15</th>\n",
       "      <td>31422</td>\n",
       "      <td>0</td>\n",
       "      <td>The fledgling romance between Nick, a playboy ...</td>\n",
       "    </tr>\n",
       "    <tr>\n",
       "      <th>16</th>\n",
       "      <td>31424</td>\n",
       "      <td>0</td>\n",
       "      <td>Edward Carnby is a private investigator specia...</td>\n",
       "    </tr>\n",
       "    <tr>\n",
       "      <th>17</th>\n",
       "      <td>31427</td>\n",
       "      <td>0</td>\n",
       "      <td>David Callaway tries to piece together his lif...</td>\n",
       "    </tr>\n",
       "    <tr>\n",
       "      <th>18</th>\n",
       "      <td>31429</td>\n",
       "      <td>0</td>\n",
       "      <td>James Cameron teams up with NASA scientists to...</td>\n",
       "    </tr>\n",
       "    <tr>\n",
       "      <th>19</th>\n",
       "      <td>31431</td>\n",
       "      <td>1</td>\n",
       "      <td>Every culture has one \\xe2\\x80\\x93 the horribl...</td>\n",
       "    </tr>\n",
       "  </tbody>\n",
       "</table>\n",
       "</div>"
      ],
      "text/plain": [
       "    movie_id  DramaGenre                                              story\n",
       "0      27509           0  A young woman escapes her wildly eccentric fam...\n",
       "1      27618           1  When a hunter sent back to the prehistoric era...\n",
       "2      27788           1  A military veteran goes on a journey into the ...\n",
       "3      27821           1  After Silvia Broome, an interpreter at United ...\n",
       "4      27839           1  Rachel Keller must prevent evil Samara from ta...\n",
       "5      27881           0  A comic drama about a time in the near future ...\n",
       "6      27904           1  An undercover cop in a not-too-distant future ...\n",
       "7      30793           0  A young boy wins a tour through the most magni...\n",
       "8      30894           1  An architect\\'s desire to speak with his wife ...\n",
       "9      30896           0  A young detective goes undercover at an elite ...\n",
       "10     30898           1  After her husband runs off with his secretary,...\n",
       "11     31221           1  Elektra the warrior survives a near-death expe...\n",
       "12     31223           0  Shattered illusions are hard to repair -- espe...\n",
       "13     31225           1  Based on a true story, in which Richmond High ...\n",
       "14     31420           1  On New Year\\'s Eve, inside a police station th...\n",
       "15     31422           0  The fledgling romance between Nick, a playboy ...\n",
       "16     31424           0  Edward Carnby is a private investigator specia...\n",
       "17     31427           0  David Callaway tries to piece together his lif...\n",
       "18     31429           0  James Cameron teams up with NASA scientists to...\n",
       "19     31431           1  Every culture has one \\xe2\\x80\\x93 the horribl..."
      ]
     },
     "execution_count": 182,
     "metadata": {},
     "output_type": "execute_result"
    }
   ],
   "source": [
    "#Drop columns except movie_id, DramaGenre and story\n",
    "for col in main_dataset.columns:\n",
    "    if (col != 'movie_id') and (col != 'story') and (col != 'Drama'):\n",
    "        main_dataset =  main_dataset.drop(col, axis = 1) \n",
    "main_dataset = main_dataset.rename(columns={'Drama':'DramaGenre'})\n",
    "main_dataset.head(20)"
   ]
  },
  {
   "cell_type": "markdown",
   "id": "56480197",
   "metadata": {},
   "source": [
    "<p><b>Note:</b> The above is the final output file names Main_dataset with columns ''movie_id ,'Drama', and 'story'.</p>"
   ]
  },
  {
   "cell_type": "markdown",
   "id": "7b437926",
   "metadata": {},
   "source": [
    "<p align='left' style=\"color: red\"> F) Cleaning of Data, The movie's plot summary contains some special characters, that must be removed. </p>\n"
   ]
  },
  {
   "cell_type": "code",
   "execution_count": 183,
   "id": "bb2923aa",
   "metadata": {},
   "outputs": [
    {
     "data": {
      "text/plain": [
       "pandas.core.series.Series"
      ]
     },
     "execution_count": 183,
     "metadata": {},
     "output_type": "execute_result"
    }
   ],
   "source": [
    "main_dataset.story = main_dataset.story.astype(str)\n",
    "type(main_dataset.story)"
   ]
  },
  {
   "cell_type": "code",
   "execution_count": 184,
   "id": "671a1b87",
   "metadata": {},
   "outputs": [
    {
     "data": {
      "text/html": [
       "<div>\n",
       "<style scoped>\n",
       "    .dataframe tbody tr th:only-of-type {\n",
       "        vertical-align: middle;\n",
       "    }\n",
       "\n",
       "    .dataframe tbody tr th {\n",
       "        vertical-align: top;\n",
       "    }\n",
       "\n",
       "    .dataframe thead th {\n",
       "        text-align: right;\n",
       "    }\n",
       "</style>\n",
       "<table border=\"1\" class=\"dataframe\">\n",
       "  <thead>\n",
       "    <tr style=\"text-align: right;\">\n",
       "      <th></th>\n",
       "      <th>movie_id</th>\n",
       "      <th>DramaGenre</th>\n",
       "      <th>story</th>\n",
       "    </tr>\n",
       "  </thead>\n",
       "  <tbody>\n",
       "    <tr>\n",
       "      <th>0</th>\n",
       "      <td>27509</td>\n",
       "      <td>0</td>\n",
       "      <td>young woman escapes wildly eccentric family se...</td>\n",
       "    </tr>\n",
       "    <tr>\n",
       "      <th>1</th>\n",
       "      <td>27618</td>\n",
       "      <td>1</td>\n",
       "      <td>When hunter sent back prehistoric runs path mu...</td>\n",
       "    </tr>\n",
       "    <tr>\n",
       "      <th>2</th>\n",
       "      <td>27788</td>\n",
       "      <td>1</td>\n",
       "      <td>military veteran goes journey into future wher...</td>\n",
       "    </tr>\n",
       "    <tr>\n",
       "      <th>3</th>\n",
       "      <td>27821</td>\n",
       "      <td>1</td>\n",
       "      <td>After Silvia Broome interpreter United Nations...</td>\n",
       "    </tr>\n",
       "    <tr>\n",
       "      <th>4</th>\n",
       "      <td>27839</td>\n",
       "      <td>1</td>\n",
       "      <td>Rachel Keller must prevent evil Samara from ta...</td>\n",
       "    </tr>\n",
       "  </tbody>\n",
       "</table>\n",
       "</div>"
      ],
      "text/plain": [
       "   movie_id  DramaGenre                                              story\n",
       "0     27509           0  young woman escapes wildly eccentric family se...\n",
       "1     27618           1  When hunter sent back prehistoric runs path mu...\n",
       "2     27788           1  military veteran goes journey into future wher...\n",
       "3     27821           1  After Silvia Broome interpreter United Nations...\n",
       "4     27839           1  Rachel Keller must prevent evil Samara from ta..."
      ]
     },
     "execution_count": 184,
     "metadata": {},
     "output_type": "execute_result"
    }
   ],
   "source": [
    "# function for text cleaning \n",
    "import re\n",
    "def clean_storyplot(movie_plot): \n",
    "    movie_plot = re.sub(\"\\'\", \"\",movie_plot)  # remove backslash and apostrophe(/').\n",
    "    movie_plot = re.sub(\"[^a-zA-Z]\",\" \",movie_plot)  # remove everything except alphabets\n",
    "    movie_plot = re.sub(r'\\b\\w{1,3}\\b','',movie_plot) # remove all words that are less than 3 characters\n",
    "    movie_plot = ' '.join(movie_plot.split()) # remove whitespaces \n",
    "#     movie_plot = movie_plot.lower() # convert movie_plot to lowercase\n",
    "    return movie_plot\n",
    "\n",
    "main_dataset['story'] = main_dataset['story'].apply(lambda x: clean_storyplot(x))\n",
    "main_dataset.head()"
   ]
  },
  {
   "cell_type": "markdown",
   "id": "13707589",
   "metadata": {},
   "source": [
    "<p align='left' style=\"color: red\"> G) Remove Puncuations </p>\n"
   ]
  },
  {
   "cell_type": "code",
   "execution_count": 185,
   "id": "7ee34f5e",
   "metadata": {},
   "outputs": [
    {
     "data": {
      "text/plain": [
       "0        young woman escapes wildly eccentric family se...\n",
       "1        When hunter sent back prehistoric runs path mu...\n",
       "2        military veteran goes journey into future wher...\n",
       "3        After Silvia Broome interpreter United Nations...\n",
       "4        Rachel Keller must prevent evil Samara from ta...\n",
       "                               ...                        \n",
       "18881    When Jesper distinguishes himself Postal Acade...\n",
       "18882    automated girl tortoise warrior journey with b...\n",
       "18883    Aria Eubank convinces famous travel writer fea...\n",
       "18884    During scorching summer Belgian Dutch border v...\n",
       "18885    years Merthner heartbroken after girlfriend An...\n",
       "Name: story, Length: 18886, dtype: object"
      ]
     },
     "execution_count": 185,
     "metadata": {},
     "output_type": "execute_result"
    }
   ],
   "source": [
    "import string\n",
    "PUNCT_TO_REMOVE = string.punctuation\n",
    "def remove_punctuation(text):\n",
    "    \"\"\"custom function to remove the punctuation\"\"\"\n",
    "    return text.translate(str.maketrans('', '', PUNCT_TO_REMOVE))\n",
    "\n",
    "main_dataset.story = main_dataset.story.apply(lambda text: remove_punctuation(text))\n",
    "main_dataset.story"
   ]
  },
  {
   "cell_type": "markdown",
   "id": "e04d8aaa",
   "metadata": {},
   "source": [
    "<p align='left' style=\"color: red\"> H) Import NTLK package and Apply Stopwords</p>\n"
   ]
  },
  {
   "cell_type": "code",
   "execution_count": 186,
   "id": "12c5f961",
   "metadata": {},
   "outputs": [],
   "source": [
    "#Advanded Tokenization, Stemminng, and Lemmatization\n",
    "import sys\n",
    "# !conda install --yes --prefix \"{sys.prefix}\" nltk\n",
    "\n",
    "import nltk\n",
    "# nltk.download('punkt')\n",
    "# nltk.download('wordnet')\n",
    "# nltk.download('omw-1.4')\n",
    "# nltk.download('stopwords')"
   ]
  },
  {
   "cell_type": "code",
   "execution_count": 187,
   "id": "db520776",
   "metadata": {},
   "outputs": [
    {
     "data": {
      "text/plain": [
       "0    young woman escapes wildly eccentric family se...\n",
       "1    When hunter sent back prehistoric runs path mu...\n",
       "2    military veteran goes journey future foresee d...\n",
       "3    After Silvia Broome interpreter United Nations...\n",
       "4    Rachel Keller must prevent evil Samara taking ...\n",
       "Name: story, dtype: object"
      ]
     },
     "execution_count": 187,
     "metadata": {},
     "output_type": "execute_result"
    }
   ],
   "source": [
    "# Remove Stop words from Story\n",
    "from nltk.corpus import stopwords\n",
    "stop = stopwords.words('english')\n",
    "main_dataset.story  = main_dataset.story.apply(lambda x: \" \".join(x for x in x.split() if x not in stop))\n",
    "main_dataset.story.head()"
   ]
  },
  {
   "cell_type": "markdown",
   "id": "2d9eda9f",
   "metadata": {},
   "source": [
    "<p align='left' style=\"color: red\"> I) Apply Lemmatizer with POS, Stemmer and Lemmetizer</p>\n"
   ]
  },
  {
   "cell_type": "code",
   "execution_count": 188,
   "id": "0063e2d1",
   "metadata": {},
   "outputs": [
    {
     "data": {
      "text/plain": [
       "0    young woman escape wildly eccentric family sea...\n",
       "1    When hunter send back prehistoric run path mus...\n",
       "2    military veteran go journey future foresee dea...\n",
       "3    After Silvia Broome interpreter United Nations...\n",
       "4    Rachel Keller must prevent evil Samara take po...\n",
       "Name: story, dtype: object"
      ]
     },
     "execution_count": 188,
     "metadata": {},
     "output_type": "execute_result"
    }
   ],
   "source": [
    "from nltk.corpus import wordnet\n",
    "from nltk.stem import WordNetLemmatizer\n",
    "\n",
    "lemmatizer = WordNetLemmatizer()\n",
    "wordnet_map = {\"N\":wordnet.NOUN, \"V\":wordnet.VERB, \"J\":wordnet.ADJ, \"R\":wordnet.ADV}\n",
    "def lemmatize_words(text):\n",
    "    pos_tagged_text = nltk.pos_tag(text.split())\n",
    "    return \" \".join([lemmatizer.lemmatize(word, wordnet_map.get(pos[0], wordnet.NOUN)) for word, pos in pos_tagged_text])\n",
    "\n",
    "main_dataset.story = main_dataset.story.apply(lambda text: lemmatize_words(text))\n",
    "main_dataset.story.head()"
   ]
  },
  {
   "cell_type": "code",
   "execution_count": 189,
   "id": "64be3d2f",
   "metadata": {},
   "outputs": [
    {
     "data": {
      "text/plain": [
       "0    young woman escap wildli eccentr famili search...\n",
       "1    when hunter send back prehistor run path must ...\n",
       "2    militari veteran go journey futur forese death...\n",
       "3    after silvia broom interpret unit nation headq...\n",
       "4    rachel keller must prevent evil samara take po...\n",
       "Name: story, dtype: object"
      ]
     },
     "execution_count": 189,
     "metadata": {},
     "output_type": "execute_result"
    }
   ],
   "source": [
    "#Stemming\n",
    "\n",
    "from nltk.stem.porter import PorterStemmer\n",
    "\n",
    "stemmer = PorterStemmer()\n",
    "def stem_words(text):\n",
    "    return \" \".join([stemmer.stem(word) for word in text.split()])\n",
    "\n",
    "main_dataset.story = main_dataset.story.apply(lambda text: stem_words(text))\n",
    "main_dataset.story.head()"
   ]
  },
  {
   "cell_type": "code",
   "execution_count": 190,
   "id": "987a978e",
   "metadata": {},
   "outputs": [
    {
     "data": {
      "text/plain": [
       "0    young woman escap wildli eccentr famili search...\n",
       "1    when hunter send back prehistor run path must ...\n",
       "2    militari veteran go journey futur forese death...\n",
       "3    after silvia broom interpret unit nation headq...\n",
       "4    rachel keller must prevent evil samara take po...\n",
       "Name: story, dtype: object"
      ]
     },
     "execution_count": 190,
     "metadata": {},
     "output_type": "execute_result"
    }
   ],
   "source": [
    "#lemmatizer\n",
    "from nltk.stem import WordNetLemmatizer\n",
    "\n",
    "lemmatizer = WordNetLemmatizer()\n",
    "def lemmatize_words(text):\n",
    "    return \" \".join([lemmatizer.lemmatize(word) for word in text.split()])\n",
    "\n",
    "main_dataset.story = main_dataset.story.apply(lambda text: lemmatize_words(text))\n",
    "main_dataset.story.head()"
   ]
  },
  {
   "cell_type": "markdown",
   "id": "838c1b5d",
   "metadata": {},
   "source": [
    "<p align='left' style=\"color: red\"> J) Apply lower case</p>\n"
   ]
  },
  {
   "cell_type": "code",
   "execution_count": 191,
   "id": "a52a2645",
   "metadata": {},
   "outputs": [
    {
     "data": {
      "text/plain": [
       "0    young woman escap wildli eccentr famili search...\n",
       "1    when hunter send back prehistor run path must ...\n",
       "2    militari veteran go journey futur forese death...\n",
       "3    after silvia broom interpret unit nation headq...\n",
       "4    rachel keller must prevent evil samara take po...\n",
       "Name: story, dtype: object"
      ]
     },
     "execution_count": 191,
     "metadata": {},
     "output_type": "execute_result"
    }
   ],
   "source": [
    "main_dataset.story = main_dataset.story.str.lower()\n",
    "main_dataset.story.head()"
   ]
  },
  {
   "cell_type": "markdown",
   "id": "3aba22f4",
   "metadata": {},
   "source": [
    "Note: Preprocessing is a frequent practice before using any Text Analysis model:"
   ]
  },
  {
   "cell_type": "markdown",
   "id": "82a18d01",
   "metadata": {},
   "source": [
    "-"
   ]
  },
  {
   "cell_type": "markdown",
   "id": "396df203",
   "metadata": {},
   "source": [
    "<h3 align='left' style=\"color: Green ;\"> Step 3: Data Partision : Dependent and independent variables Dataset </h3>"
   ]
  },
  {
   "cell_type": "code",
   "execution_count": 192,
   "id": "926be7fb",
   "metadata": {},
   "outputs": [],
   "source": [
    "X = main_dataset[['movie_id','story']]\n",
    "y = main_dataset.DramaGenre"
   ]
  },
  {
   "cell_type": "markdown",
   "id": "9a4db262",
   "metadata": {},
   "source": [
    "-"
   ]
  },
  {
   "cell_type": "markdown",
   "id": "7638fef5",
   "metadata": {},
   "source": [
    "<h3 align='left' style=\"color: Green ;\"> Step 4: Apply Text Analysis and Supervised learning on main dataset </h3>"
   ]
  },
  {
   "cell_type": "code",
   "execution_count": 193,
   "id": "679fbe65",
   "metadata": {},
   "outputs": [
    {
     "data": {
      "image/png": "[encoded data removed]",
      "text/plain": [
       "<Figure size 576x576 with 1 Axes>"
      ]
     },
     "metadata": {
      "needs_background": "light"
     },
     "output_type": "display_data"
    },
    {
     "data": {
      "text/plain": [
       "<AxesSubplot:title={'center':'Frequency Distribution of Top 30 tokens'}>"
      ]
     },
     "execution_count": 193,
     "metadata": {},
     "output_type": "execute_result"
    }
   ],
   "source": [
    "#Apply term Frequency Matrices\n",
    "from yellowbrick.text.freqdist import FreqDistVisualizer \n",
    "from sklearn.feature_extraction.text import CountVectorizer\n",
    "import matplotlib as mpl\n",
    "import matplotlib.pyplot as plt\n",
    "%matplotlib inline\n",
    "\n",
    "#Ngrams with stopwords\n",
    "from sklearn.feature_extraction.text import CountVectorizer\n",
    "vect = CountVectorizer(stop_words=\"english\").fit(X.story)\n",
    "tfm = vect.transform(X.story)\n",
    "\n",
    "# Get all features (tokens)\n",
    "main_dataset_features = vect.get_feature_names()\n",
    "\n",
    "# Use yellowbrick package for visualization of top 30 tokens\n",
    "fig, ax = plt.subplots(figsize=(8, 8))\n",
    "visualizer = FreqDistVisualizer(features=main_dataset_features, n=30)\n",
    "visualizer.fit(tfm)\n",
    "visualizer.poof()"
   ]
  },
  {
   "cell_type": "markdown",
   "id": "42855390",
   "metadata": {},
   "source": [
    "<p align='left' style=\"color: red\"> Rescaling the data with TF-IDF, The intuition of this method is to give high weight to any term that appears often in a particular document, but not in many documents in the corpus. If a word appears often in a particular story, but not in very many stories, it is likely to be very descriptive of the content of that story. </p>"
   ]
  },
  {
   "cell_type": "code",
   "execution_count": 118,
   "id": "c3cb2a94",
   "metadata": {},
   "outputs": [
    {
     "name": "stdout",
     "output_type": "stream",
     "text": [
      "The number of features are: 20000\n"
     ]
    },
    {
     "data": {
      "text/html": [
       "<div>\n",
       "<style scoped>\n",
       "    .dataframe tbody tr th:only-of-type {\n",
       "        vertical-align: middle;\n",
       "    }\n",
       "\n",
       "    .dataframe tbody tr th {\n",
       "        vertical-align: top;\n",
       "    }\n",
       "\n",
       "    .dataframe thead th {\n",
       "        text-align: right;\n",
       "    }\n",
       "</style>\n",
       "<table border=\"1\" class=\"dataframe\">\n",
       "  <thead>\n",
       "    <tr style=\"text-align: right;\">\n",
       "      <th></th>\n",
       "      <th>aaron</th>\n",
       "      <th>abandon</th>\n",
       "      <th>abandon asylum</th>\n",
       "      <th>abandon babi</th>\n",
       "      <th>abandon build</th>\n",
       "      <th>abandon famili</th>\n",
       "      <th>abandon hospit</th>\n",
       "      <th>abandon hotel</th>\n",
       "      <th>abandon hous</th>\n",
       "      <th>abandon husband</th>\n",
       "      <th>...</th>\n",
       "      <th>ziggi</th>\n",
       "      <th>zimmer</th>\n",
       "      <th>zixin</th>\n",
       "      <th>zombi</th>\n",
       "      <th>zombi apocalyps</th>\n",
       "      <th>zombi like</th>\n",
       "      <th>zombi outbreak</th>\n",
       "      <th>zone</th>\n",
       "      <th>zquez</th>\n",
       "      <th>zurich</th>\n",
       "    </tr>\n",
       "  </thead>\n",
       "  <tbody>\n",
       "    <tr>\n",
       "      <th>18</th>\n",
       "      <td>0.0</td>\n",
       "      <td>0.000000</td>\n",
       "      <td>0.0</td>\n",
       "      <td>0.0</td>\n",
       "      <td>0.0</td>\n",
       "      <td>0.000000</td>\n",
       "      <td>0.0</td>\n",
       "      <td>0.0</td>\n",
       "      <td>0.0</td>\n",
       "      <td>0.0</td>\n",
       "      <td>...</td>\n",
       "      <td>0.0</td>\n",
       "      <td>0.0</td>\n",
       "      <td>0.0</td>\n",
       "      <td>0.0</td>\n",
       "      <td>0.0</td>\n",
       "      <td>0.0</td>\n",
       "      <td>0.0</td>\n",
       "      <td>0.0</td>\n",
       "      <td>0.0</td>\n",
       "      <td>0.0</td>\n",
       "    </tr>\n",
       "    <tr>\n",
       "      <th>19</th>\n",
       "      <td>0.0</td>\n",
       "      <td>0.148111</td>\n",
       "      <td>0.0</td>\n",
       "      <td>0.0</td>\n",
       "      <td>0.0</td>\n",
       "      <td>0.252603</td>\n",
       "      <td>0.0</td>\n",
       "      <td>0.0</td>\n",
       "      <td>0.0</td>\n",
       "      <td>0.0</td>\n",
       "      <td>...</td>\n",
       "      <td>0.0</td>\n",
       "      <td>0.0</td>\n",
       "      <td>0.0</td>\n",
       "      <td>0.0</td>\n",
       "      <td>0.0</td>\n",
       "      <td>0.0</td>\n",
       "      <td>0.0</td>\n",
       "      <td>0.0</td>\n",
       "      <td>0.0</td>\n",
       "      <td>0.0</td>\n",
       "    </tr>\n",
       "    <tr>\n",
       "      <th>20</th>\n",
       "      <td>0.0</td>\n",
       "      <td>0.000000</td>\n",
       "      <td>0.0</td>\n",
       "      <td>0.0</td>\n",
       "      <td>0.0</td>\n",
       "      <td>0.000000</td>\n",
       "      <td>0.0</td>\n",
       "      <td>0.0</td>\n",
       "      <td>0.0</td>\n",
       "      <td>0.0</td>\n",
       "      <td>...</td>\n",
       "      <td>0.0</td>\n",
       "      <td>0.0</td>\n",
       "      <td>0.0</td>\n",
       "      <td>0.0</td>\n",
       "      <td>0.0</td>\n",
       "      <td>0.0</td>\n",
       "      <td>0.0</td>\n",
       "      <td>0.0</td>\n",
       "      <td>0.0</td>\n",
       "      <td>0.0</td>\n",
       "    </tr>\n",
       "    <tr>\n",
       "      <th>21</th>\n",
       "      <td>0.0</td>\n",
       "      <td>0.000000</td>\n",
       "      <td>0.0</td>\n",
       "      <td>0.0</td>\n",
       "      <td>0.0</td>\n",
       "      <td>0.000000</td>\n",
       "      <td>0.0</td>\n",
       "      <td>0.0</td>\n",
       "      <td>0.0</td>\n",
       "      <td>0.0</td>\n",
       "      <td>...</td>\n",
       "      <td>0.0</td>\n",
       "      <td>0.0</td>\n",
       "      <td>0.0</td>\n",
       "      <td>0.0</td>\n",
       "      <td>0.0</td>\n",
       "      <td>0.0</td>\n",
       "      <td>0.0</td>\n",
       "      <td>0.0</td>\n",
       "      <td>0.0</td>\n",
       "      <td>0.0</td>\n",
       "    </tr>\n",
       "    <tr>\n",
       "      <th>22</th>\n",
       "      <td>0.0</td>\n",
       "      <td>0.000000</td>\n",
       "      <td>0.0</td>\n",
       "      <td>0.0</td>\n",
       "      <td>0.0</td>\n",
       "      <td>0.000000</td>\n",
       "      <td>0.0</td>\n",
       "      <td>0.0</td>\n",
       "      <td>0.0</td>\n",
       "      <td>0.0</td>\n",
       "      <td>...</td>\n",
       "      <td>0.0</td>\n",
       "      <td>0.0</td>\n",
       "      <td>0.0</td>\n",
       "      <td>0.0</td>\n",
       "      <td>0.0</td>\n",
       "      <td>0.0</td>\n",
       "      <td>0.0</td>\n",
       "      <td>0.0</td>\n",
       "      <td>0.0</td>\n",
       "      <td>0.0</td>\n",
       "    </tr>\n",
       "  </tbody>\n",
       "</table>\n",
       "<p>5 rows × 20000 columns</p>\n",
       "</div>"
      ],
      "text/plain": [
       "    aaron   abandon  abandon asylum  abandon babi  abandon build  \\\n",
       "18    0.0  0.000000             0.0           0.0            0.0   \n",
       "19    0.0  0.148111             0.0           0.0            0.0   \n",
       "20    0.0  0.000000             0.0           0.0            0.0   \n",
       "21    0.0  0.000000             0.0           0.0            0.0   \n",
       "22    0.0  0.000000             0.0           0.0            0.0   \n",
       "\n",
       "    abandon famili  abandon hospit  abandon hotel  abandon hous  \\\n",
       "18        0.000000             0.0            0.0           0.0   \n",
       "19        0.252603             0.0            0.0           0.0   \n",
       "20        0.000000             0.0            0.0           0.0   \n",
       "21        0.000000             0.0            0.0           0.0   \n",
       "22        0.000000             0.0            0.0           0.0   \n",
       "\n",
       "    abandon husband  ...  ziggi  zimmer  zixin  zombi  zombi apocalyps  \\\n",
       "18              0.0  ...    0.0     0.0    0.0    0.0              0.0   \n",
       "19              0.0  ...    0.0     0.0    0.0    0.0              0.0   \n",
       "20              0.0  ...    0.0     0.0    0.0    0.0              0.0   \n",
       "21              0.0  ...    0.0     0.0    0.0    0.0              0.0   \n",
       "22              0.0  ...    0.0     0.0    0.0    0.0              0.0   \n",
       "\n",
       "    zombi like  zombi outbreak  zone  zquez  zurich  \n",
       "18         0.0             0.0   0.0    0.0     0.0  \n",
       "19         0.0             0.0   0.0    0.0     0.0  \n",
       "20         0.0             0.0   0.0    0.0     0.0  \n",
       "21         0.0             0.0   0.0    0.0     0.0  \n",
       "22         0.0             0.0   0.0    0.0     0.0  \n",
       "\n",
       "[5 rows x 20000 columns]"
      ]
     },
     "execution_count": 118,
     "metadata": {},
     "output_type": "execute_result"
    }
   ],
   "source": [
    "# Apply Term Frequency - Inverse Document Frequency method\n",
    "from sklearn.feature_extraction.text import TfidfVectorizer\n",
    "vect = TfidfVectorizer(stop_words=\"english\", ngram_range=(1,2),max_features=20000).fit(X.story) \n",
    "tfid = vect.transform(X.story)\n",
    "print(\"The number of features are: {}\".format(len(vect.get_feature_names())))\n",
    "tfid_main = pd.DataFrame(tfid.toarray(), columns=vect.get_feature_names())\n",
    "tfid_main[18:23]"
   ]
  },
  {
   "cell_type": "markdown",
   "id": "9819daed",
   "metadata": {},
   "source": [
    "<h2 align='center' style=\"color: orange;\">Run Supervised Learning Models on main dataset and evaluate metrics</h2>"
   ]
  },
  {
   "cell_type": "code",
   "execution_count": 119,
   "id": "48207d3b",
   "metadata": {},
   "outputs": [],
   "source": [
    "#Import libraries\n",
    "import numpy as np\n",
    "import pandas as pd\n",
    "from sklearn.model_selection import cross_validate\n",
    "from sklearn.model_selection import GridSearchCV\n",
    "from sklearn.model_selection import StratifiedKFold\n",
    "from sklearn.model_selection import train_test_split\n",
    "\n",
    "from prettytable import PrettyTable\n",
    "from sklearn import model_selection\n",
    "\n",
    "from sklearn.linear_model import LogisticRegression\n",
    "from sklearn.linear_model import SGDClassifier\n",
    "from sklearn.ensemble import AdaBoostClassifier\n",
    "from sklearn.ensemble import GradientBoostingClassifier\n",
    "from sklearn.ensemble import RandomForestClassifier\n",
    "from sklearn.naive_bayes import MultinomialNB\n",
    "from sklearn.tree import DecisionTreeClassifier\n",
    "from sklearn.neighbors import KNeighborsClassifier\n",
    "from sklearn.svm import SVC\n",
    "from sklearn.neural_network import MLPClassifier"
   ]
  },
  {
   "cell_type": "code",
   "execution_count": 120,
   "id": "f9f5360d",
   "metadata": {},
   "outputs": [],
   "source": [
    "#Obtain the following performance metrics\n",
    "scoring = {'accuracy': 'accuracy',\n",
    "           'precision': 'precision_weighted',\n",
    "           'recall': 'recall_weighted',\n",
    "           'f1':'f1_weighted',\n",
    "          'AUC' : 'roc_auc_ovr_weighted'\n",
    "          }"
   ]
  },
  {
   "cell_type": "markdown",
   "id": "56e32b43",
   "metadata": {},
   "source": [
    "### Logistic Regression"
   ]
  },
  {
   "cell_type": "code",
   "execution_count": 121,
   "id": "0599cdfa",
   "metadata": {},
   "outputs": [
    {
     "name": "stdout",
     "output_type": "stream",
     "text": [
      "Best cross-validation score: 69.73\n",
      "Best parameters:  {'C': 1}\n",
      "fit_time : 1649.228596687317 \n",
      "score_time : 74.6086279551188 \n",
      "test_accuracy : 69.73421689965245 \n",
      "test_precision : 69.61630584301317 \n",
      "test_recall : 69.73421689965245 \n",
      "test_f1 : 69.44847973503889 \n",
      "test_AUC : 77.1014587479096 \n"
     ]
    }
   ],
   "source": [
    "from sklearn.model_selection import GridSearchCV\n",
    "param_grid = {'C': [0.5, 1]}\n",
    "grid = GridSearchCV(LogisticRegression(max_iter=300), param_grid, cv=3) \n",
    "grid.fit(tfid_main, y)\n",
    "print(\"Best cross-validation score: {:.2f}\".format(grid.best_score_*100)) \n",
    "print(\"Best parameters: \", grid.best_params_)\n",
    "\n",
    "#Run Best Estimator model\n",
    "bestModel_log = grid.best_estimator_\n",
    "\n",
    "print(\"\\n\")\n",
    "\n",
    "scores = cross_validate(bestModel_log,  tfid_main, y, scoring=scoring, cv=3, \n",
    "                        return_train_score=False)\n",
    "# Obtain mean or median values of each performace metrics\n",
    "print(\"Cross validation, Mean Score metrics for Logistic regression are as follows:\\n\")\n",
    "for key, value in scores.items():                              \n",
    "    print(\"{} : {} \".format(key,np.mean(value)*100))\n"
   ]
  },
  {
   "cell_type": "markdown",
   "id": "d031ecc6",
   "metadata": {},
   "source": [
    "-"
   ]
  },
  {
   "cell_type": "markdown",
   "id": "aa73d96b",
   "metadata": {},
   "source": [
    "### KNN model"
   ]
  },
  {
   "cell_type": "code",
   "execution_count": 122,
   "id": "56ae774d",
   "metadata": {},
   "outputs": [
    {
     "name": "stdout",
     "output_type": "stream",
     "text": [
      "Best Parameter: {'n_neighbors': 190}\n",
      "Best Cross Vlidation Score: 0.6827282279994039\n",
      "Mean Score metrics for KNN Neighbors are as follows:\n",
      "\n",
      "fit_time : 126.67497793833415 \n",
      "score_time : 8480.695501963299 \n",
      "test_accuracy : 67.66917331174879 \n",
      "test_precision : 68.21669238005322 \n",
      "test_recall : 67.66917331174879 \n",
      "test_f1 : 66.40351458047721 \n",
      "test_AUC : 75.9180055296785 \n"
     ]
    }
   ],
   "source": [
    "#Intialize the model - Using GridSearchCV to find the n_neighnors hyperparameters\n",
    "KNN_model = KNeighborsClassifier()\n",
    "\n",
    "#Data Partition\n",
    "param_grid = {'n_neighbors': [180,190,200]}\n",
    "cv = StratifiedKFold(n_splits=3, random_state=0, shuffle=True)\n",
    "grid = GridSearchCV(KNN_model, param_grid, cv = cv, return_train_score=False)\n",
    "grid.fit(tfid_main, y)\n",
    "\n",
    "print(\"Best Parameter: {}\".format(grid.best_params_))\n",
    "print(\"Best Cross Vlidation Score: {}\".format(grid.best_score_))\n",
    "\n",
    "\n",
    "#Run Best Estimator model\n",
    "bestModel_KNN = grid.best_estimator_\n",
    "print(\"\\n\")\n",
    "#scores for best estimator model\n",
    "scores = cross_validate(bestModel_KNN,  tfid_main, y, scoring=scoring, cv=3, \n",
    "                        return_train_score=False)\n",
    "\n",
    "\n",
    "print(\"Cross validation, Mean Score metrics for KNN Neighbors are as follows:\\n\")\n",
    "\n",
    "for key, value in scores.items():                               # Obtain mean or median values of each performace metrics\n",
    "    print(\"{} : {} \".format(key,np.mean(value)*100))"
   ]
  },
  {
   "cell_type": "markdown",
   "id": "afa1fba3",
   "metadata": {},
   "source": [
    "-"
   ]
  },
  {
   "cell_type": "markdown",
   "id": "4fdf2a5d",
   "metadata": {},
   "source": [
    "### DecisionTree Classifier"
   ]
  },
  {
   "cell_type": "code",
   "execution_count": 124,
   "id": "a7acf6e3",
   "metadata": {},
   "outputs": [
    {
     "name": "stdout",
     "output_type": "stream",
     "text": [
      "Best Parameter: {'max_depth': 8}\n",
      "Best Cross Vlidation Score: 0.6084925764483016\n",
      "Mean Score metrics for Decesion Tree Classifier are as follows:\n",
      "\n",
      "fit_time : 4754.386361440023 \n",
      "score_time : 93.06274255116782 \n",
      "test_accuracy : 60.91814412721418 \n",
      "test_precision : 60.48685888166507 \n",
      "test_recall : 60.91814412721418 \n",
      "test_f1 : 60.282967966001685 \n",
      "test_AUC : 62.42675768490238 \n"
     ]
    }
   ],
   "source": [
    "#Intialize the model - Using GridSearchCV to find the max_depth hyperparameters\n",
    "DC_model = DecisionTreeClassifier()\n",
    "\n",
    "param_grid = {'max_depth': [7,8,9]}\n",
    "cv = StratifiedKFold(n_splits=3, random_state=0, shuffle=True)\n",
    "grid = GridSearchCV(DC_model, param_grid, cv = cv, \n",
    "                    return_train_score=True)\n",
    "grid.fit(tfid_main, y)\n",
    "\n",
    "print(\"Best Parameter: {}\".format(grid.best_params_))\n",
    "print(\"Best Cross Vlidation Score: {}\".format(grid.best_score_))\n",
    "\n",
    "#Run Best Estimator model\n",
    "bestModel_DC = grid.best_estimator_\n",
    "\n",
    "scores = cross_validate(bestModel_DC,  tfid_main, y, scoring=scoring, cv=3, \n",
    "                        return_train_score=False)\n",
    "print(\"\\n\")\n",
    "print(\"Mean Score metrics for Decesion Tree Classifier are as follows:\\n\")\n",
    "\n",
    "for key, value in scores.items():                               # Obtain mean or median values of each performace metrics\n",
    "    print(\"{} : {} \".format(key,np.mean(value)*100))"
   ]
  },
  {
   "cell_type": "markdown",
   "id": "453534f0",
   "metadata": {},
   "source": [
    "-"
   ]
  },
  {
   "cell_type": "markdown",
   "id": "c65fec5b",
   "metadata": {},
   "source": [
    "### Multinomial Naive Bayes"
   ]
  },
  {
   "cell_type": "code",
   "execution_count": 138,
   "id": "18628612",
   "metadata": {},
   "outputs": [
    {
     "name": "stdout",
     "output_type": "stream",
     "text": [
      "Mean Score metrics for Multinomial Naive Bayes model are as follows:\n",
      "\n",
      "fit_time : 164.4484519958496 \n",
      "score_time : 87.02313105265299 \n",
      "test_accuracy : 69.2099803902373 \n",
      "test_precision : 69.3897267481605 \n",
      "test_recall : 69.2099803902373 \n",
      "test_f1 : 68.47105927149123 \n",
      "test_AUC : 77.0650403557407 \n"
     ]
    }
   ],
   "source": [
    "# Multinomial Naive Bayes\n",
    "\n",
    "from sklearn.naive_bayes import MultinomialNB\n",
    "\n",
    "MNB_model = MultinomialNB()\n",
    "\n",
    "#Apply Cross Validation to get the performance metrics of the model\n",
    "scores = cross_validate(MNB_model,  tfid_main, y, scoring=scoring, cv=3, \n",
    "                        return_train_score=False)\n",
    "\n",
    "print(\"Mean Score metrics for Multinomial Naive Bayes model are as follows:\\n\")\n",
    "\n",
    "for key, value in scores.items():                               # Obtain mean or median values of each performace metrics\n",
    "    print(\"{} : {} \".format(key,np.mean(value)*100))"
   ]
  },
  {
   "cell_type": "markdown",
   "id": "51cf6d7c",
   "metadata": {},
   "source": [
    "-"
   ]
  },
  {
   "cell_type": "markdown",
   "id": "e34ab7b1",
   "metadata": {},
   "source": [
    "### Random Forest"
   ]
  },
  {
   "cell_type": "code",
   "execution_count": 143,
   "id": "108ec857",
   "metadata": {},
   "outputs": [
    {
     "name": "stdout",
     "output_type": "stream",
     "text": [
      "Best Parameter: {'n_estimators': 300}\n",
      "Best Cross Vlidation Score: 0.6890289870576912\n",
      "Mean Score metrics for Random Forest Classifier are as follows:\n",
      "\n",
      "fit_time : 77569.79639530182 \n",
      "score_time : 621.8020280202229 \n",
      "test_accuracy : 69.25231934476682 \n",
      "test_precision : 69.17025968816588 \n",
      "test_recall : 69.25231934476682 \n",
      "test_f1 : 69.17304770045716 \n",
      "test_AUC : 75.59632352373646 \n"
     ]
    }
   ],
   "source": [
    "#Intialize the model - Using GridSearchCV to find the n_neighnors hyperparameters\n",
    "RF_model = RandomForestClassifier()\n",
    "\n",
    "#Data Partition\n",
    "param_grid = {'n_estimators': [200, 250, 300]}\n",
    "cv = StratifiedKFold(n_splits=3, random_state=0, shuffle=True)\n",
    "grid = GridSearchCV(RF_model, param_grid, cv = cv, return_train_score=False)\n",
    "grid.fit(tfid_main, y)\n",
    "\n",
    "print(\"Best Parameter: {}\".format(grid.best_params_))\n",
    "print(\"Best Cross Vlidation Score: {}\".format(grid.best_score_))\n",
    "\n",
    "\n",
    "#Run Best Estimator model\n",
    "bestModel_RF = grid.best_estimator_\n",
    "\n",
    "scores = cross_validate(bestModel_RF,  tfid_main, y, scoring=scoring, cv=3, \n",
    "                        return_train_score=False)\n",
    "\n",
    "print(\"Mean Score metrics for Random Forest Classifier are as follows:\\n\")\n",
    "\n",
    "for key, value in scores.items():                               # Obtain mean or median values of each performace metrics\n",
    "    print(\"{} : {} \".format(key,np.mean(value)*100))"
   ]
  },
  {
   "cell_type": "markdown",
   "id": "35e835da",
   "metadata": {},
   "source": []
  },
  {
   "cell_type": "markdown",
   "id": "2801a099",
   "metadata": {},
   "source": [
    "### MLP Classifier"
   ]
  },
  {
   "cell_type": "code",
   "execution_count": 139,
   "id": "d521965e",
   "metadata": {},
   "outputs": [
    {
     "name": "stdout",
     "output_type": "stream",
     "text": [
      "Mean Score metrics for Stochastic Gradient Descent  model are as follows:\n",
      "\n",
      "fit_time : 47765.8650636673 \n",
      "score_time : 111.70847415924072 \n",
      "test_accuracy : 65.24940967179468 \n",
      "test_precision : 65.26063830123272 \n",
      "test_recall : 65.24940967179468 \n",
      "test_f1 : 65.24647979302385 \n",
      "test_AUC : 71.04447900015481 \n"
     ]
    }
   ],
   "source": [
    "# Neural Networks\n",
    "from sklearn.neural_network import MLPClassifier\n",
    "\n",
    "MLP_model = MLPClassifier(solver='lbfgs',random_state=0, max_iter=5000, \n",
    "                      hidden_layer_sizes=[25,10])\n",
    "\n",
    "\n",
    "#Apply Cross Validation to get the performance metrics of the model\n",
    "scores = cross_validate(MLP_model,  tfid_main, y, scoring=scoring, cv=3, \n",
    "                        return_train_score=False)\n",
    "\n",
    "print(\"Mean Score metrics for Stochastic Gradient Descent  model are as follows:\\n\")\n",
    "\n",
    "for key, value in scores.items():                               # Obtain mean or median values of each performace metrics\n",
    "    print(\"{} : {} \".format(key,np.mean(value)*100))"
   ]
  },
  {
   "cell_type": "markdown",
   "id": "9ae1ebda",
   "metadata": {},
   "source": [
    "-"
   ]
  },
  {
   "cell_type": "markdown",
   "id": "e5a8d996",
   "metadata": {},
   "source": [
    "<h3 align='left' style=\"color: Green ;\"> Step5: Choose best model and use full data available in main dataset to train the model. </h3>\n",
    "\n"
   ]
  },
  {
   "cell_type": "markdown",
   "id": "32e70d0b",
   "metadata": {},
   "source": [
    "Evaluating model based on fit time, score time, test accuracy, precesion, recall, f1 score and Auc score. Logestic model has the highest test accuracy, precesion, recall, f1,and Auc scores but the time takes to fit and score the model is also high.\n",
    "\n",
    "Multinomial Naive Bayes takes less time to fit and score along with better test accuracy, precesion, recall, f1,and Auc scores compared to others."
   ]
  },
  {
   "cell_type": "code",
   "execution_count": 198,
   "id": "05f2d481",
   "metadata": {},
   "outputs": [
    {
     "data": {
      "text/plain": [
       "MultinomialNB()"
      ]
     },
     "execution_count": 198,
     "metadata": {},
     "output_type": "execute_result"
    }
   ],
   "source": [
    "############################### Best Model to train on full dataset ##############################\n",
    "# Step 1\n",
    "from sklearn.naive_bayes import MultinomialNB\n",
    "# Step 2\n",
    "best_model_of_all = MultinomialNB()\n",
    "# Step 3\n",
    "best_model_of_all.fit(tfid_main, y)"
   ]
  },
  {
   "cell_type": "markdown",
   "id": "42166e5f",
   "metadata": {},
   "source": [
    "-"
   ]
  },
  {
   "cell_type": "markdown",
   "id": "39fb29cc",
   "metadata": {},
   "source": [
    "<h3 align='left' style=\"color: Green ;\"> Step 6: Prepare data in movie_story_evaluation_file.csv for prediction. You need to perform the exact same steps that you have done in Step 2 to prepare this new dataset. Name the new dataset as evaluation_dataset.</h3>\n"
   ]
  },
  {
   "cell_type": "code",
   "execution_count": 125,
   "id": "e2360b2a",
   "metadata": {},
   "outputs": [
    {
     "name": "stdout",
     "output_type": "stream",
     "text": [
      "(3302, 24)\n"
     ]
    },
    {
     "data": {
      "text/html": [
       "<div>\n",
       "<style scoped>\n",
       "    .dataframe tbody tr th:only-of-type {\n",
       "        vertical-align: middle;\n",
       "    }\n",
       "\n",
       "    .dataframe tbody tr th {\n",
       "        vertical-align: top;\n",
       "    }\n",
       "\n",
       "    .dataframe thead th {\n",
       "        text-align: right;\n",
       "    }\n",
       "</style>\n",
       "<table border=\"1\" class=\"dataframe\">\n",
       "  <thead>\n",
       "    <tr style=\"text-align: right;\">\n",
       "      <th></th>\n",
       "      <th>movie_id</th>\n",
       "      <th>title</th>\n",
       "      <th>genres</th>\n",
       "      <th>(no genres listed)</th>\n",
       "      <th>Action</th>\n",
       "      <th>Adventure</th>\n",
       "      <th>Animation</th>\n",
       "      <th>Children</th>\n",
       "      <th>Comedy</th>\n",
       "      <th>Crime</th>\n",
       "      <th>...</th>\n",
       "      <th>Horror</th>\n",
       "      <th>IMAX</th>\n",
       "      <th>Musical</th>\n",
       "      <th>Mystery</th>\n",
       "      <th>Romance</th>\n",
       "      <th>Sci-Fi</th>\n",
       "      <th>Thriller</th>\n",
       "      <th>War</th>\n",
       "      <th>Western</th>\n",
       "      <th>story</th>\n",
       "    </tr>\n",
       "  </thead>\n",
       "  <tbody>\n",
       "    <tr>\n",
       "      <th>0</th>\n",
       "      <td>56835</td>\n",
       "      <td>Pledge This! (2006)</td>\n",
       "      <td>Comedy</td>\n",
       "      <td>0</td>\n",
       "      <td>0</td>\n",
       "      <td>0</td>\n",
       "      <td>0</td>\n",
       "      <td>0</td>\n",
       "      <td>1</td>\n",
       "      <td>0</td>\n",
       "      <td>...</td>\n",
       "      <td>0</td>\n",
       "      <td>0</td>\n",
       "      <td>0</td>\n",
       "      <td>0</td>\n",
       "      <td>0</td>\n",
       "      <td>0</td>\n",
       "      <td>0</td>\n",
       "      <td>0</td>\n",
       "      <td>0</td>\n",
       "      <td>At popular South Beach University, filthy rich...</td>\n",
       "    </tr>\n",
       "    <tr>\n",
       "      <th>1</th>\n",
       "      <td>56837</td>\n",
       "      <td>As You Like It (2006)</td>\n",
       "      <td>Comedy|Drama|Romance</td>\n",
       "      <td>0</td>\n",
       "      <td>0</td>\n",
       "      <td>0</td>\n",
       "      <td>0</td>\n",
       "      <td>0</td>\n",
       "      <td>1</td>\n",
       "      <td>0</td>\n",
       "      <td>...</td>\n",
       "      <td>0</td>\n",
       "      <td>0</td>\n",
       "      <td>0</td>\n",
       "      <td>0</td>\n",
       "      <td>1</td>\n",
       "      <td>0</td>\n",
       "      <td>0</td>\n",
       "      <td>0</td>\n",
       "      <td>0</td>\n",
       "      <td>Witty, playful and utterly magical, the story ...</td>\n",
       "    </tr>\n",
       "    <tr>\n",
       "      <th>2</th>\n",
       "      <td>56846</td>\n",
       "      <td>Rabbit Without Ears (Keinohrhasen) (2007)</td>\n",
       "      <td>Comedy|Romance</td>\n",
       "      <td>0</td>\n",
       "      <td>0</td>\n",
       "      <td>0</td>\n",
       "      <td>0</td>\n",
       "      <td>0</td>\n",
       "      <td>1</td>\n",
       "      <td>0</td>\n",
       "      <td>...</td>\n",
       "      <td>0</td>\n",
       "      <td>0</td>\n",
       "      <td>0</td>\n",
       "      <td>0</td>\n",
       "      <td>1</td>\n",
       "      <td>0</td>\n",
       "      <td>0</td>\n",
       "      <td>0</td>\n",
       "      <td>0</td>\n",
       "      <td>Rainbow press reporter Ludo is sentenced to 8 ...</td>\n",
       "    </tr>\n",
       "    <tr>\n",
       "      <th>3</th>\n",
       "      <td>56869</td>\n",
       "      <td>Drained (O cheiro do Ralo) (2006)</td>\n",
       "      <td>Comedy</td>\n",
       "      <td>0</td>\n",
       "      <td>0</td>\n",
       "      <td>0</td>\n",
       "      <td>0</td>\n",
       "      <td>0</td>\n",
       "      <td>1</td>\n",
       "      <td>0</td>\n",
       "      <td>...</td>\n",
       "      <td>0</td>\n",
       "      <td>0</td>\n",
       "      <td>0</td>\n",
       "      <td>0</td>\n",
       "      <td>0</td>\n",
       "      <td>0</td>\n",
       "      <td>0</td>\n",
       "      <td>0</td>\n",
       "      <td>0</td>\n",
       "      <td>A pawn shop proprietor buys used goods from de...</td>\n",
       "    </tr>\n",
       "    <tr>\n",
       "      <th>4</th>\n",
       "      <td>56885</td>\n",
       "      <td>Great Debaters, The (2007)</td>\n",
       "      <td>Drama</td>\n",
       "      <td>0</td>\n",
       "      <td>0</td>\n",
       "      <td>0</td>\n",
       "      <td>0</td>\n",
       "      <td>0</td>\n",
       "      <td>0</td>\n",
       "      <td>0</td>\n",
       "      <td>...</td>\n",
       "      <td>0</td>\n",
       "      <td>0</td>\n",
       "      <td>0</td>\n",
       "      <td>0</td>\n",
       "      <td>0</td>\n",
       "      <td>0</td>\n",
       "      <td>0</td>\n",
       "      <td>0</td>\n",
       "      <td>0</td>\n",
       "      <td>The true story of a brilliant but politically ...</td>\n",
       "    </tr>\n",
       "  </tbody>\n",
       "</table>\n",
       "<p>5 rows × 24 columns</p>\n",
       "</div>"
      ],
      "text/plain": [
       "   movie_id                                      title                genres  \\\n",
       "0     56835                        Pledge This! (2006)                Comedy   \n",
       "1     56837                      As You Like It (2006)  Comedy|Drama|Romance   \n",
       "2     56846  Rabbit Without Ears (Keinohrhasen) (2007)        Comedy|Romance   \n",
       "3     56869          Drained (O cheiro do Ralo) (2006)                Comedy   \n",
       "4     56885                 Great Debaters, The (2007)                 Drama   \n",
       "\n",
       "   (no genres listed)  Action  Adventure  Animation  Children  Comedy  Crime  \\\n",
       "0                   0       0          0          0         0       1      0   \n",
       "1                   0       0          0          0         0       1      0   \n",
       "2                   0       0          0          0         0       1      0   \n",
       "3                   0       0          0          0         0       1      0   \n",
       "4                   0       0          0          0         0       0      0   \n",
       "\n",
       "   ...  Horror  IMAX  Musical  Mystery  Romance  Sci-Fi  Thriller  War  \\\n",
       "0  ...       0     0        0        0        0       0         0    0   \n",
       "1  ...       0     0        0        0        1       0         0    0   \n",
       "2  ...       0     0        0        0        1       0         0    0   \n",
       "3  ...       0     0        0        0        0       0         0    0   \n",
       "4  ...       0     0        0        0        0       0         0    0   \n",
       "\n",
       "   Western                                              story  \n",
       "0        0  At popular South Beach University, filthy rich...  \n",
       "1        0  Witty, playful and utterly magical, the story ...  \n",
       "2        0  Rainbow press reporter Ludo is sentenced to 8 ...  \n",
       "3        0  A pawn shop proprietor buys used goods from de...  \n",
       "4        0  The true story of a brilliant but politically ...  \n",
       "\n",
       "[5 rows x 24 columns]"
      ]
     },
     "execution_count": 125,
     "metadata": {},
     "output_type": "execute_result"
    }
   ],
   "source": [
    "#merge datasets\n",
    "evaluation_dataset = pd.merge(movies,evaluation_file, on='movie_id')\n",
    "print(evaluation_dataset.shape)\n",
    "evaluation_dataset.head()"
   ]
  },
  {
   "cell_type": "code",
   "execution_count": 126,
   "id": "7722dabf",
   "metadata": {},
   "outputs": [
    {
     "data": {
      "text/html": [
       "<div>\n",
       "<style scoped>\n",
       "    .dataframe tbody tr th:only-of-type {\n",
       "        vertical-align: middle;\n",
       "    }\n",
       "\n",
       "    .dataframe tbody tr th {\n",
       "        vertical-align: top;\n",
       "    }\n",
       "\n",
       "    .dataframe thead th {\n",
       "        text-align: right;\n",
       "    }\n",
       "</style>\n",
       "<table border=\"1\" class=\"dataframe\">\n",
       "  <thead>\n",
       "    <tr style=\"text-align: right;\">\n",
       "      <th></th>\n",
       "      <th>movie_id</th>\n",
       "      <th>DramaGenre</th>\n",
       "      <th>story</th>\n",
       "    </tr>\n",
       "  </thead>\n",
       "  <tbody>\n",
       "    <tr>\n",
       "      <th>0</th>\n",
       "      <td>56835</td>\n",
       "      <td>0</td>\n",
       "      <td>At popular South Beach University, filthy rich...</td>\n",
       "    </tr>\n",
       "    <tr>\n",
       "      <th>1</th>\n",
       "      <td>56837</td>\n",
       "      <td>1</td>\n",
       "      <td>Witty, playful and utterly magical, the story ...</td>\n",
       "    </tr>\n",
       "    <tr>\n",
       "      <th>2</th>\n",
       "      <td>56846</td>\n",
       "      <td>0</td>\n",
       "      <td>Rainbow press reporter Ludo is sentenced to 8 ...</td>\n",
       "    </tr>\n",
       "    <tr>\n",
       "      <th>3</th>\n",
       "      <td>56869</td>\n",
       "      <td>0</td>\n",
       "      <td>A pawn shop proprietor buys used goods from de...</td>\n",
       "    </tr>\n",
       "    <tr>\n",
       "      <th>4</th>\n",
       "      <td>56885</td>\n",
       "      <td>1</td>\n",
       "      <td>The true story of a brilliant but politically ...</td>\n",
       "    </tr>\n",
       "    <tr>\n",
       "      <th>5</th>\n",
       "      <td>56888</td>\n",
       "      <td>1</td>\n",
       "      <td>Bilike has never seen a ping-pong ball before....</td>\n",
       "    </tr>\n",
       "    <tr>\n",
       "      <th>6</th>\n",
       "      <td>56908</td>\n",
       "      <td>1</td>\n",
       "      <td>A modern love story in which a misanthropic, e...</td>\n",
       "    </tr>\n",
       "    <tr>\n",
       "      <th>7</th>\n",
       "      <td>56915</td>\n",
       "      <td>0</td>\n",
       "      <td>A lonely boy discovers a mysterious egg that h...</td>\n",
       "    </tr>\n",
       "    <tr>\n",
       "      <th>8</th>\n",
       "      <td>56941</td>\n",
       "      <td>1</td>\n",
       "      <td>A young widow discovers that her late husband ...</td>\n",
       "    </tr>\n",
       "    <tr>\n",
       "      <th>9</th>\n",
       "      <td>56945</td>\n",
       "      <td>0</td>\n",
       "      <td>Laughter, love and just a hint of magic make f...</td>\n",
       "    </tr>\n",
       "  </tbody>\n",
       "</table>\n",
       "</div>"
      ],
      "text/plain": [
       "   movie_id  DramaGenre                                              story\n",
       "0     56835           0  At popular South Beach University, filthy rich...\n",
       "1     56837           1  Witty, playful and utterly magical, the story ...\n",
       "2     56846           0  Rainbow press reporter Ludo is sentenced to 8 ...\n",
       "3     56869           0  A pawn shop proprietor buys used goods from de...\n",
       "4     56885           1  The true story of a brilliant but politically ...\n",
       "5     56888           1  Bilike has never seen a ping-pong ball before....\n",
       "6     56908           1  A modern love story in which a misanthropic, e...\n",
       "7     56915           0  A lonely boy discovers a mysterious egg that h...\n",
       "8     56941           1  A young widow discovers that her late husband ...\n",
       "9     56945           0  Laughter, love and just a hint of magic make f..."
      ]
     },
     "execution_count": 126,
     "metadata": {},
     "output_type": "execute_result"
    }
   ],
   "source": [
    "#Dropping all columns except movie_id, Drama and story\n",
    "for col in evaluation_dataset.columns:\n",
    "    if (col != 'movie_id') and (col != 'story') and (col != 'Drama'):\n",
    "        evaluation_dataset =  evaluation_dataset.drop(col, axis = 1)\n",
    "evaluation_dataset = evaluation_dataset.rename(columns={'Drama':'DramaGenre'})\n",
    "evaluation_dataset.head(10)"
   ]
  },
  {
   "cell_type": "markdown",
   "id": "c5a9df47",
   "metadata": {},
   "source": [
    "### Evaluation Dataset Cleaning"
   ]
  },
  {
   "cell_type": "code",
   "execution_count": 127,
   "id": "c6231952",
   "metadata": {},
   "outputs": [
    {
     "data": {
      "text/plain": [
       "pandas.core.series.Series"
      ]
     },
     "execution_count": 127,
     "metadata": {},
     "output_type": "execute_result"
    }
   ],
   "source": [
    "evaluation_dataset.story = evaluation_dataset.story.astype(str)\n",
    "type(evaluation_dataset.story)"
   ]
  },
  {
   "cell_type": "code",
   "execution_count": 128,
   "id": "1b81a8eb",
   "metadata": {},
   "outputs": [
    {
     "data": {
      "text/html": [
       "<div>\n",
       "<style scoped>\n",
       "    .dataframe tbody tr th:only-of-type {\n",
       "        vertical-align: middle;\n",
       "    }\n",
       "\n",
       "    .dataframe tbody tr th {\n",
       "        vertical-align: top;\n",
       "    }\n",
       "\n",
       "    .dataframe thead th {\n",
       "        text-align: right;\n",
       "    }\n",
       "</style>\n",
       "<table border=\"1\" class=\"dataframe\">\n",
       "  <thead>\n",
       "    <tr style=\"text-align: right;\">\n",
       "      <th></th>\n",
       "      <th>movie_id</th>\n",
       "      <th>DramaGenre</th>\n",
       "      <th>story</th>\n",
       "    </tr>\n",
       "  </thead>\n",
       "  <tbody>\n",
       "    <tr>\n",
       "      <th>0</th>\n",
       "      <td>56835</td>\n",
       "      <td>0</td>\n",
       "      <td>popular South Beach University filthy rich sup...</td>\n",
       "    </tr>\n",
       "    <tr>\n",
       "      <th>1</th>\n",
       "      <td>56837</td>\n",
       "      <td>1</td>\n",
       "      <td>Witty playful utterly magical story compelling...</td>\n",
       "    </tr>\n",
       "    <tr>\n",
       "      <th>2</th>\n",
       "      <td>56846</td>\n",
       "      <td>0</td>\n",
       "      <td>Rainbow press reporter Ludo sentenced months r...</td>\n",
       "    </tr>\n",
       "    <tr>\n",
       "      <th>3</th>\n",
       "      <td>56869</td>\n",
       "      <td>0</td>\n",
       "      <td>pawn shop proprietor buys used goods from desp...</td>\n",
       "    </tr>\n",
       "    <tr>\n",
       "      <th>4</th>\n",
       "      <td>56885</td>\n",
       "      <td>1</td>\n",
       "      <td>true story brilliant politically radical debat...</td>\n",
       "    </tr>\n",
       "  </tbody>\n",
       "</table>\n",
       "</div>"
      ],
      "text/plain": [
       "   movie_id  DramaGenre                                              story\n",
       "0     56835           0  popular South Beach University filthy rich sup...\n",
       "1     56837           1  Witty playful utterly magical story compelling...\n",
       "2     56846           0  Rainbow press reporter Ludo sentenced months r...\n",
       "3     56869           0  pawn shop proprietor buys used goods from desp...\n",
       "4     56885           1  true story brilliant politically radical debat..."
      ]
     },
     "execution_count": 128,
     "metadata": {},
     "output_type": "execute_result"
    }
   ],
   "source": [
    "#Cleaning Story summaries by reusing Clean_storyplot() function created in Step 2 \n",
    "evaluation_dataset.story = evaluation_dataset.story.apply(lambda x: clean_storyplot(x))\n",
    "evaluation_dataset.head()"
   ]
  },
  {
   "cell_type": "code",
   "execution_count": 129,
   "id": "7f88f22f",
   "metadata": {},
   "outputs": [
    {
     "data": {
      "text/plain": [
       "0       popular South Beach University filthy rich sup...\n",
       "1       Witty playful utterly magical story compelling...\n",
       "2       Rainbow press reporter Ludo sentenced months r...\n",
       "3       pawn shop proprietor buys used goods from desp...\n",
       "4       true story brilliant politically radical debat...\n",
       "                              ...                        \n",
       "3297    account professional personal life renowned Am...\n",
       "3298    Sophia Grace Rosie sent Switzelvania special c...\n",
       "3299    Doctors nutritionists authors entrepreneurs fr...\n",
       "3300    Paul Liebrandt most talented controversial che...\n",
       "3301    woman gets released from prison reunites with ...\n",
       "Name: story, Length: 3302, dtype: object"
      ]
     },
     "execution_count": 129,
     "metadata": {},
     "output_type": "execute_result"
    }
   ],
   "source": [
    "#Remove Puncuations\n",
    "evaluation_dataset.story = evaluation_dataset.story.apply(lambda text: remove_punctuation(text))\n",
    "evaluation_dataset.story"
   ]
  },
  {
   "cell_type": "code",
   "execution_count": 130,
   "id": "dfc615e7",
   "metadata": {},
   "outputs": [
    {
     "data": {
      "text/plain": [
       "0    popular South Beach University filthy rich sup...\n",
       "1    Witty playful utterly magical story compelling...\n",
       "2    Rainbow press reporter Ludo sentenced months r...\n",
       "3    pawn shop proprietor buys used goods desperate...\n",
       "4    true story brilliant politically radical debat...\n",
       "Name: story, dtype: object"
      ]
     },
     "execution_count": 130,
     "metadata": {},
     "output_type": "execute_result"
    }
   ],
   "source": [
    "# Remove Stop words from Story\n",
    "from nltk.corpus import stopwords\n",
    "stop = stopwords.words('english')\n",
    "evaluation_dataset.story  = evaluation_dataset.story.apply(lambda x: \" \".join(x for x in x.split() if x not in stop))\n",
    "evaluation_dataset.story.head()"
   ]
  },
  {
   "cell_type": "code",
   "execution_count": 131,
   "id": "2e6f2517",
   "metadata": {},
   "outputs": [
    {
     "data": {
      "text/plain": [
       "0    popular South Beach University filthy rich sup...\n",
       "1    Witty playful utterly magical story compelling...\n",
       "2    Rainbow press reporter Ludo sentence month rel...\n",
       "3    pawn shop proprietor buy use good desperate lo...\n",
       "4    true story brilliant politically radical debat...\n",
       "Name: story, dtype: object"
      ]
     },
     "execution_count": 131,
     "metadata": {},
     "output_type": "execute_result"
    }
   ],
   "source": [
    "from nltk.corpus import wordnet\n",
    "from nltk.stem import WordNetLemmatizer\n",
    "\n",
    "lemmatizer = WordNetLemmatizer()\n",
    "wordnet_map = {\"N\":wordnet.NOUN, \"V\":wordnet.VERB, \"J\":wordnet.ADJ, \"R\":wordnet.ADV}\n",
    "def lemmatize_words(text):\n",
    "    pos_tagged_text = nltk.pos_tag(text.split())\n",
    "    return \" \".join([lemmatizer.lemmatize(word, wordnet_map.get(pos[0], wordnet.NOUN)) for word, pos in pos_tagged_text])\n",
    "\n",
    "evaluation_dataset.story = evaluation_dataset.story.apply(lambda text: lemmatize_words(text))\n",
    "evaluation_dataset.story.head()"
   ]
  },
  {
   "cell_type": "code",
   "execution_count": 132,
   "id": "c438ab8c",
   "metadata": {},
   "outputs": [
    {
     "data": {
      "text/plain": [
       "0    popular south beach univers filthi rich super ...\n",
       "1    witti play utterli magic stori compel romant a...\n",
       "2    rainbow press report ludo sentenc month releas...\n",
       "3    pawn shop proprietor buy use good desper local...\n",
       "4    true stori brilliant polit radic debat team co...\n",
       "Name: story, dtype: object"
      ]
     },
     "execution_count": 132,
     "metadata": {},
     "output_type": "execute_result"
    }
   ],
   "source": [
    "#Stemming\n",
    "\n",
    "from nltk.stem.porter import PorterStemmer\n",
    "\n",
    "stemmer = PorterStemmer()\n",
    "def stem_words(text):\n",
    "    return \" \".join([stemmer.stem(word) for word in text.split()])\n",
    "\n",
    "evaluation_dataset.story = evaluation_dataset.story.apply(lambda text: stem_words(text))\n",
    "evaluation_dataset.story.head()"
   ]
  },
  {
   "cell_type": "code",
   "execution_count": 133,
   "id": "fafa2814",
   "metadata": {},
   "outputs": [
    {
     "data": {
      "text/plain": [
       "0    popular south beach univers filthi rich super ...\n",
       "1    witti play utterli magic stori compel romant a...\n",
       "2    rainbow press report ludo sentenc month releas...\n",
       "3    pawn shop proprietor buy use good desper local...\n",
       "4    true stori brilliant polit radic debat team co...\n",
       "Name: story, dtype: object"
      ]
     },
     "execution_count": 133,
     "metadata": {},
     "output_type": "execute_result"
    }
   ],
   "source": [
    "from nltk.stem import WordNetLemmatizer\n",
    "\n",
    "lemmatizer = WordNetLemmatizer()\n",
    "def lemmatize_words(text):\n",
    "    return \" \".join([lemmatizer.lemmatize(word) for word in text.split()])\n",
    "\n",
    "evaluation_dataset.story = evaluation_dataset.story.apply(lambda text: lemmatize_words(text))\n",
    "evaluation_dataset.story.head()"
   ]
  },
  {
   "cell_type": "code",
   "execution_count": 134,
   "id": "711175a0",
   "metadata": {},
   "outputs": [
    {
     "data": {
      "text/html": [
       "<div>\n",
       "<style scoped>\n",
       "    .dataframe tbody tr th:only-of-type {\n",
       "        vertical-align: middle;\n",
       "    }\n",
       "\n",
       "    .dataframe tbody tr th {\n",
       "        vertical-align: top;\n",
       "    }\n",
       "\n",
       "    .dataframe thead th {\n",
       "        text-align: right;\n",
       "    }\n",
       "</style>\n",
       "<table border=\"1\" class=\"dataframe\">\n",
       "  <thead>\n",
       "    <tr style=\"text-align: right;\">\n",
       "      <th></th>\n",
       "      <th>movie_id</th>\n",
       "      <th>DramaGenre</th>\n",
       "      <th>story</th>\n",
       "    </tr>\n",
       "  </thead>\n",
       "  <tbody>\n",
       "    <tr>\n",
       "      <th>0</th>\n",
       "      <td>56835</td>\n",
       "      <td>0</td>\n",
       "      <td>popular south beach univers filthi rich super ...</td>\n",
       "    </tr>\n",
       "    <tr>\n",
       "      <th>1</th>\n",
       "      <td>56837</td>\n",
       "      <td>1</td>\n",
       "      <td>witti play utterli magic stori compel romant a...</td>\n",
       "    </tr>\n",
       "    <tr>\n",
       "      <th>2</th>\n",
       "      <td>56846</td>\n",
       "      <td>0</td>\n",
       "      <td>rainbow press report ludo sentenc month releas...</td>\n",
       "    </tr>\n",
       "    <tr>\n",
       "      <th>3</th>\n",
       "      <td>56869</td>\n",
       "      <td>0</td>\n",
       "      <td>pawn shop proprietor buy use good desper local...</td>\n",
       "    </tr>\n",
       "    <tr>\n",
       "      <th>4</th>\n",
       "      <td>56885</td>\n",
       "      <td>1</td>\n",
       "      <td>true stori brilliant polit radic debat team co...</td>\n",
       "    </tr>\n",
       "  </tbody>\n",
       "</table>\n",
       "</div>"
      ],
      "text/plain": [
       "   movie_id  DramaGenre                                              story\n",
       "0     56835           0  popular south beach univers filthi rich super ...\n",
       "1     56837           1  witti play utterli magic stori compel romant a...\n",
       "2     56846           0  rainbow press report ludo sentenc month releas...\n",
       "3     56869           0  pawn shop proprietor buy use good desper local...\n",
       "4     56885           1  true stori brilliant polit radic debat team co..."
      ]
     },
     "execution_count": 134,
     "metadata": {},
     "output_type": "execute_result"
    }
   ],
   "source": [
    "#lower case\n",
    "evaluation_dataset.story = evaluation_dataset.story.str.lower()\n",
    "evaluation_dataset.head()"
   ]
  },
  {
   "cell_type": "code",
   "execution_count": 135,
   "id": "04d46a7a",
   "metadata": {},
   "outputs": [
    {
     "data": {
      "image/png": "[encoded data removed]",
      "text/plain": [
       "<Figure size 576x576 with 1 Axes>"
      ]
     },
     "metadata": {
      "needs_background": "light"
     },
     "output_type": "display_data"
    },
    {
     "data": {
      "text/plain": [
       "<AxesSubplot:title={'center':'Frequency Distribution of Top 30 tokens'}>"
      ]
     },
     "execution_count": 135,
     "metadata": {},
     "output_type": "execute_result"
    }
   ],
   "source": [
    "from yellowbrick.text.freqdist import FreqDistVisualizer \n",
    "from sklearn.feature_extraction.text import CountVectorizer\n",
    "import matplotlib as mpl\n",
    "import matplotlib.pyplot as plt\n",
    "%matplotlib inline\n",
    "\n",
    "#Countervectorizer with stopwords\n",
    "from sklearn.feature_extraction.text import CountVectorizer\n",
    "vect = CountVectorizer(stop_words=\"english\").fit(evaluation_dataset.story)\n",
    "tfm = vect.transform(evaluation_dataset.story)\n",
    "\n",
    "# Get all features (tokens)\n",
    "eval_dataset_features = vect.get_feature_names()\n",
    "\n",
    "# Use yellowbrick package for visualization of top 30 tokens\n",
    "fig, ax = plt.subplots(figsize=(8, 8))\n",
    "visualizer = FreqDistVisualizer(features=main_dataset_features, n=30)\n",
    "visualizer.fit(tfm)\n",
    "visualizer.poof()"
   ]
  },
  {
   "cell_type": "markdown",
   "id": "558d442d",
   "metadata": {},
   "source": [
    "#### Data Partision"
   ]
  },
  {
   "cell_type": "code",
   "execution_count": 136,
   "id": "3326ca77",
   "metadata": {},
   "outputs": [],
   "source": [
    "X_eval = evaluation_dataset[['movie_id','story']]\n",
    "y_eval = evaluation_dataset.DramaGenre"
   ]
  },
  {
   "cell_type": "code",
   "execution_count": 148,
   "id": "14eb3b3a",
   "metadata": {},
   "outputs": [
    {
     "name": "stdout",
     "output_type": "stream",
     "text": [
      "The number of features are: 20000\n"
     ]
    },
    {
     "data": {
      "text/html": [
       "<div>\n",
       "<style scoped>\n",
       "    .dataframe tbody tr th:only-of-type {\n",
       "        vertical-align: middle;\n",
       "    }\n",
       "\n",
       "    .dataframe tbody tr th {\n",
       "        vertical-align: top;\n",
       "    }\n",
       "\n",
       "    .dataframe thead th {\n",
       "        text-align: right;\n",
       "    }\n",
       "</style>\n",
       "<table border=\"1\" class=\"dataframe\">\n",
       "  <thead>\n",
       "    <tr style=\"text-align: right;\">\n",
       "      <th></th>\n",
       "      <th>aaron</th>\n",
       "      <th>abaddon</th>\n",
       "      <th>abaddon hotel</th>\n",
       "      <th>abandon</th>\n",
       "      <th>abandon child</th>\n",
       "      <th>abandon famili</th>\n",
       "      <th>abbey</th>\n",
       "      <th>abbi</th>\n",
       "      <th>abduct</th>\n",
       "      <th>abduct forc</th>\n",
       "      <th>...</th>\n",
       "      <th>zhou</th>\n",
       "      <th>zieg</th>\n",
       "      <th>zimbabw</th>\n",
       "      <th>zimbabw constitut</th>\n",
       "      <th>zingarina</th>\n",
       "      <th>zombi</th>\n",
       "      <th>zombi apocalyps</th>\n",
       "      <th>zombi film</th>\n",
       "      <th>zone</th>\n",
       "      <th>zurich</th>\n",
       "    </tr>\n",
       "  </thead>\n",
       "  <tbody>\n",
       "    <tr>\n",
       "      <th>0</th>\n",
       "      <td>0.0</td>\n",
       "      <td>0.0</td>\n",
       "      <td>0.0</td>\n",
       "      <td>0.0</td>\n",
       "      <td>0.0</td>\n",
       "      <td>0.0</td>\n",
       "      <td>0.0</td>\n",
       "      <td>0.0</td>\n",
       "      <td>0.0</td>\n",
       "      <td>0.0</td>\n",
       "      <td>...</td>\n",
       "      <td>0.0</td>\n",
       "      <td>0.0</td>\n",
       "      <td>0.0</td>\n",
       "      <td>0.0</td>\n",
       "      <td>0.0</td>\n",
       "      <td>0.0</td>\n",
       "      <td>0.0</td>\n",
       "      <td>0.0</td>\n",
       "      <td>0.0</td>\n",
       "      <td>0.0</td>\n",
       "    </tr>\n",
       "    <tr>\n",
       "      <th>1</th>\n",
       "      <td>0.0</td>\n",
       "      <td>0.0</td>\n",
       "      <td>0.0</td>\n",
       "      <td>0.0</td>\n",
       "      <td>0.0</td>\n",
       "      <td>0.0</td>\n",
       "      <td>0.0</td>\n",
       "      <td>0.0</td>\n",
       "      <td>0.0</td>\n",
       "      <td>0.0</td>\n",
       "      <td>...</td>\n",
       "      <td>0.0</td>\n",
       "      <td>0.0</td>\n",
       "      <td>0.0</td>\n",
       "      <td>0.0</td>\n",
       "      <td>0.0</td>\n",
       "      <td>0.0</td>\n",
       "      <td>0.0</td>\n",
       "      <td>0.0</td>\n",
       "      <td>0.0</td>\n",
       "      <td>0.0</td>\n",
       "    </tr>\n",
       "    <tr>\n",
       "      <th>2</th>\n",
       "      <td>0.0</td>\n",
       "      <td>0.0</td>\n",
       "      <td>0.0</td>\n",
       "      <td>0.0</td>\n",
       "      <td>0.0</td>\n",
       "      <td>0.0</td>\n",
       "      <td>0.0</td>\n",
       "      <td>0.0</td>\n",
       "      <td>0.0</td>\n",
       "      <td>0.0</td>\n",
       "      <td>...</td>\n",
       "      <td>0.0</td>\n",
       "      <td>0.0</td>\n",
       "      <td>0.0</td>\n",
       "      <td>0.0</td>\n",
       "      <td>0.0</td>\n",
       "      <td>0.0</td>\n",
       "      <td>0.0</td>\n",
       "      <td>0.0</td>\n",
       "      <td>0.0</td>\n",
       "      <td>0.0</td>\n",
       "    </tr>\n",
       "    <tr>\n",
       "      <th>3</th>\n",
       "      <td>0.0</td>\n",
       "      <td>0.0</td>\n",
       "      <td>0.0</td>\n",
       "      <td>0.0</td>\n",
       "      <td>0.0</td>\n",
       "      <td>0.0</td>\n",
       "      <td>0.0</td>\n",
       "      <td>0.0</td>\n",
       "      <td>0.0</td>\n",
       "      <td>0.0</td>\n",
       "      <td>...</td>\n",
       "      <td>0.0</td>\n",
       "      <td>0.0</td>\n",
       "      <td>0.0</td>\n",
       "      <td>0.0</td>\n",
       "      <td>0.0</td>\n",
       "      <td>0.0</td>\n",
       "      <td>0.0</td>\n",
       "      <td>0.0</td>\n",
       "      <td>0.0</td>\n",
       "      <td>0.0</td>\n",
       "    </tr>\n",
       "    <tr>\n",
       "      <th>4</th>\n",
       "      <td>0.0</td>\n",
       "      <td>0.0</td>\n",
       "      <td>0.0</td>\n",
       "      <td>0.0</td>\n",
       "      <td>0.0</td>\n",
       "      <td>0.0</td>\n",
       "      <td>0.0</td>\n",
       "      <td>0.0</td>\n",
       "      <td>0.0</td>\n",
       "      <td>0.0</td>\n",
       "      <td>...</td>\n",
       "      <td>0.0</td>\n",
       "      <td>0.0</td>\n",
       "      <td>0.0</td>\n",
       "      <td>0.0</td>\n",
       "      <td>0.0</td>\n",
       "      <td>0.0</td>\n",
       "      <td>0.0</td>\n",
       "      <td>0.0</td>\n",
       "      <td>0.0</td>\n",
       "      <td>0.0</td>\n",
       "    </tr>\n",
       "  </tbody>\n",
       "</table>\n",
       "<p>5 rows × 20000 columns</p>\n",
       "</div>"
      ],
      "text/plain": [
       "   aaron  abaddon  abaddon hotel  abandon  abandon child  abandon famili  \\\n",
       "0    0.0      0.0            0.0      0.0            0.0             0.0   \n",
       "1    0.0      0.0            0.0      0.0            0.0             0.0   \n",
       "2    0.0      0.0            0.0      0.0            0.0             0.0   \n",
       "3    0.0      0.0            0.0      0.0            0.0             0.0   \n",
       "4    0.0      0.0            0.0      0.0            0.0             0.0   \n",
       "\n",
       "   abbey  abbi  abduct  abduct forc  ...  zhou  zieg  zimbabw  \\\n",
       "0    0.0   0.0     0.0          0.0  ...   0.0   0.0      0.0   \n",
       "1    0.0   0.0     0.0          0.0  ...   0.0   0.0      0.0   \n",
       "2    0.0   0.0     0.0          0.0  ...   0.0   0.0      0.0   \n",
       "3    0.0   0.0     0.0          0.0  ...   0.0   0.0      0.0   \n",
       "4    0.0   0.0     0.0          0.0  ...   0.0   0.0      0.0   \n",
       "\n",
       "   zimbabw constitut  zingarina  zombi  zombi apocalyps  zombi film  zone  \\\n",
       "0                0.0        0.0    0.0              0.0         0.0   0.0   \n",
       "1                0.0        0.0    0.0              0.0         0.0   0.0   \n",
       "2                0.0        0.0    0.0              0.0         0.0   0.0   \n",
       "3                0.0        0.0    0.0              0.0         0.0   0.0   \n",
       "4                0.0        0.0    0.0              0.0         0.0   0.0   \n",
       "\n",
       "   zurich  \n",
       "0     0.0  \n",
       "1     0.0  \n",
       "2     0.0  \n",
       "3     0.0  \n",
       "4     0.0  \n",
       "\n",
       "[5 rows x 20000 columns]"
      ]
     },
     "execution_count": 148,
     "metadata": {},
     "output_type": "execute_result"
    }
   ],
   "source": [
    "# Apply Term Frequency - Inverse Document Frequency method\n",
    "from sklearn.feature_extraction.text import TfidfVectorizer\n",
    "vect = TfidfVectorizer(stop_words=\"english\", ngram_range=(1,2),max_features=20000).fit(X_eval.story) \n",
    "tfid = vect.transform(X_eval.story)\n",
    "print(\"The number of features are: {}\".format(len(vect.get_feature_names())))\n",
    "tfid_eval = pd.DataFrame(tfid.toarray(), columns=vect.get_feature_names())\n",
    "tfid_eval.head()"
   ]
  },
  {
   "cell_type": "markdown",
   "id": "343019b8",
   "metadata": {},
   "source": []
  },
  {
   "cell_type": "markdown",
   "id": "73c24198",
   "metadata": {},
   "source": [
    "<h3 align='left' style=\"color: Green ;\"> Step 7: Use your selected model in Step 5 to predict whether or not movies in evaluation_dataset are Drama movies.</h3>"
   ]
  },
  {
   "cell_type": "code",
   "execution_count": 199,
   "id": "6bfdb89d",
   "metadata": {},
   "outputs": [],
   "source": [
    "#Best of all models \n",
    "#############################Naive Bayes Predictions#############################################\n",
    "y_test_hat = best_model_of_all.predict(tfid_eval)"
   ]
  },
  {
   "cell_type": "code",
   "execution_count": 201,
   "id": "d42d9cd5",
   "metadata": {},
   "outputs": [
    {
     "name": "stdout",
     "output_type": "stream",
     "text": [
      "Confusion Matrix\n",
      "[[1007  872]\n",
      " [ 630  793]]\n",
      "\n",
      "\n",
      "Classification Report of Multinomial NaiveBayes \n",
      "\n",
      "\n",
      "              precision    recall  f1-score   support\n",
      "\n",
      "           0       0.62      0.54      0.57      1879\n",
      "           1       0.48      0.56      0.51      1423\n",
      "\n",
      "    accuracy                           0.55      3302\n",
      "   macro avg       0.55      0.55      0.54      3302\n",
      "weighted avg       0.56      0.55      0.55      3302\n",
      "\n"
     ]
    }
   ],
   "source": [
    "from sklearn.metrics import classification_report, confusion_matrix\n",
    "print(\"Confusion Matrix\")\n",
    "print(confusion_matrix(y_eval,y_test_hat))\n",
    "print('\\n')\n",
    "print(\"Classification Report of Multinomial NaiveBayes \")\n",
    "print(\"\\n\")\n",
    "print(classification_report(y_eval,y_test_hat))"
   ]
  },
  {
   "cell_type": "code",
   "execution_count": 202,
   "id": "5b8f5029",
   "metadata": {},
   "outputs": [
    {
     "name": "stdout",
     "output_type": "stream",
     "text": [
      "Confusion Matrix - Multinomial NaiveBayes \n",
      "[[1007  872]\n",
      " [ 630  793]]\n"
     ]
    },
    {
     "data": {
      "image/png": "[encoded data removed]",
      "text/plain": [
       "<Figure size 432x288 with 2 Axes>"
      ]
     },
     "metadata": {},
     "output_type": "display_data"
    }
   ],
   "source": [
    "import seaborn as sns; sns.set() \n",
    "print(\"Confusion Matrix - Multinomial NaiveBayes \")\n",
    "cf_matrix = confusion_matrix(y_eval,y_test_hat)\n",
    "print(cf_matrix)\n",
    "cm_df = pd.DataFrame(cf_matrix)\n",
    "sns.heatmap(cm_df, annot=True)\n",
    "plt.show()"
   ]
  },
  {
   "cell_type": "markdown",
   "id": "212ba5fe",
   "metadata": {},
   "source": [
    "-"
   ]
  },
  {
   "cell_type": "markdown",
   "id": "d57b45d3",
   "metadata": {},
   "source": [
    "<h3 align='left' style=\"color: Green ;\"> Report the final accuracy, precision, recall and F1 score..</h3>"
   ]
  },
  {
   "cell_type": "code",
   "execution_count": 203,
   "id": "f04a7234",
   "metadata": {},
   "outputs": [],
   "source": [
    "submission = pd.DataFrame({\n",
    "    \"movieId\": X_eval[\"movie_id\"],\n",
    "    \"DramaGenre\": y_test_hat\n",
    "})\n",
    "submission.to_csv(\"results.csv\", index=False)"
   ]
  },
  {
   "cell_type": "code",
   "execution_count": 204,
   "id": "b9a2a702",
   "metadata": {},
   "outputs": [
    {
     "name": "stdout",
     "output_type": "stream",
     "text": [
      "The Final predictions, whether or not movies in evaluation_dataset are Drama movies are shown below:\n",
      "\n"
     ]
    },
    {
     "data": {
      "text/html": [
       "<div>\n",
       "<style scoped>\n",
       "    .dataframe tbody tr th:only-of-type {\n",
       "        vertical-align: middle;\n",
       "    }\n",
       "\n",
       "    .dataframe tbody tr th {\n",
       "        vertical-align: top;\n",
       "    }\n",
       "\n",
       "    .dataframe thead th {\n",
       "        text-align: right;\n",
       "    }\n",
       "</style>\n",
       "<table border=\"1\" class=\"dataframe\">\n",
       "  <thead>\n",
       "    <tr style=\"text-align: right;\">\n",
       "      <th></th>\n",
       "      <th>movieId</th>\n",
       "      <th>DramaGenre</th>\n",
       "    </tr>\n",
       "  </thead>\n",
       "  <tbody>\n",
       "    <tr>\n",
       "      <th>0</th>\n",
       "      <td>56835</td>\n",
       "      <td>1</td>\n",
       "    </tr>\n",
       "    <tr>\n",
       "      <th>1</th>\n",
       "      <td>56837</td>\n",
       "      <td>1</td>\n",
       "    </tr>\n",
       "    <tr>\n",
       "      <th>2</th>\n",
       "      <td>56846</td>\n",
       "      <td>1</td>\n",
       "    </tr>\n",
       "    <tr>\n",
       "      <th>3</th>\n",
       "      <td>56869</td>\n",
       "      <td>0</td>\n",
       "    </tr>\n",
       "    <tr>\n",
       "      <th>4</th>\n",
       "      <td>56885</td>\n",
       "      <td>0</td>\n",
       "    </tr>\n",
       "    <tr>\n",
       "      <th>...</th>\n",
       "      <td>...</td>\n",
       "      <td>...</td>\n",
       "    </tr>\n",
       "    <tr>\n",
       "      <th>3297</th>\n",
       "      <td>196577</td>\n",
       "      <td>0</td>\n",
       "    </tr>\n",
       "    <tr>\n",
       "      <th>3298</th>\n",
       "      <td>196587</td>\n",
       "      <td>0</td>\n",
       "    </tr>\n",
       "    <tr>\n",
       "      <th>3299</th>\n",
       "      <td>196589</td>\n",
       "      <td>0</td>\n",
       "    </tr>\n",
       "    <tr>\n",
       "      <th>3300</th>\n",
       "      <td>196591</td>\n",
       "      <td>1</td>\n",
       "    </tr>\n",
       "    <tr>\n",
       "      <th>3301</th>\n",
       "      <td>196597</td>\n",
       "      <td>0</td>\n",
       "    </tr>\n",
       "  </tbody>\n",
       "</table>\n",
       "<p>3302 rows × 2 columns</p>\n",
       "</div>"
      ],
      "text/plain": [
       "      movieId  DramaGenre\n",
       "0       56835           1\n",
       "1       56837           1\n",
       "2       56846           1\n",
       "3       56869           0\n",
       "4       56885           0\n",
       "...       ...         ...\n",
       "3297   196577           0\n",
       "3298   196587           0\n",
       "3299   196589           0\n",
       "3300   196591           1\n",
       "3301   196597           0\n",
       "\n",
       "[3302 rows x 2 columns]"
      ]
     },
     "execution_count": 204,
     "metadata": {},
     "output_type": "execute_result"
    }
   ],
   "source": [
    "print(\"The Final predictions, whether or not movies in evaluation_dataset are Drama movies are shown below:\\n\")\n",
    "submission"
   ]
  }
 ],
 "metadata": {
  "kernelspec": {
   "display_name": "Python 3",
   "language": "python",
   "name": "python3"
  },
  "language_info": {
   "codemirror_mode": {
    "name": "ipython",
    "version": 3
   },
   "file_extension": ".py",
   "mimetype": "text/x-python",
   "name": "python",
   "nbconvert_exporter": "python",
   "pygments_lexer": "ipython3",
   "version": "3.8.8"
  }
 },
 "nbformat": 4,
 "nbformat_minor": 5
}
